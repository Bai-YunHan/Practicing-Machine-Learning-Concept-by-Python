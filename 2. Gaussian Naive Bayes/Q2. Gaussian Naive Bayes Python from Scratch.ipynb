{
 "cells": [
  {
   "cell_type": "markdown",
   "metadata": {},
   "source": [
    "# Gaussian Naive Bayes Classifier from Scratch\n",
    "\n",
    "Fit a Gaussian naive Bayes classifier on the continuous data (both z-normalization and log-\n",
    "transform) from the Data Processing section. \n",
    "For the Naive Classifier:\n",
    "\n",
    "Since there are a lot of spam and non-spam emails, you do not need to assume any prior on the class label. In other words, the class label prior $\\pi_c$ can be estimated using ML and you can use $\\pi_c^{ML}$ as a plug-in estimator for testing.\n",
    "\n",
    "For this exercise, just use maximum likelihood to estimate the class conditional mean and variance of each feature and use ML estimates as a plug-in estimator for testing. \n",
    "\n",
    "ML: maximum likelyhood."
   ]
  },
  {
   "cell_type": "markdown",
   "metadata": {},
   "source": [
    "# Setup"
   ]
  },
  {
   "cell_type": "code",
   "execution_count": 1,
   "metadata": {
    "collapsed": true
   },
   "outputs": [],
   "source": [
    "import pandas as pd\n",
    "import numpy as np\n",
    "import math\n",
    "import seaborn as sns\n",
    "import matplotlib.pyplot as plt\n",
    "from sklearn.preprocessing import scale\n",
    "from scipy.stats import norm\n",
    "\n",
    "from IPython.core.display import HTML\n",
    "\n",
    "def multi_table(table_list):\n",
    "    ''' Acceps a list of IpyTable objects and returns a table which contains each IpyTable in a cell\n",
    "    '''\n",
    "    return HTML(\n",
    "        '<table><tr style=\"background-color:white;\">' + \n",
    "        ''.join(['<td>' + table._repr_html_() + '</td>' for table in table_list]) +\n",
    "        '</tr></table>'\n",
    "    )\n",
    "\n",
    "# set up the seaborn style\n",
    "sns.set()\n",
    "\n",
    "# display 6 digit decimal float in Pandas DataFrame\n",
    "pd.set_option('display.float_format', lambda x: '%.5f' % x)"
   ]
  },
  {
   "cell_type": "markdown",
   "metadata": {},
   "source": [
    "__ Creating DataFrames for training dataset.__\n",
    "\n",
    "df_Xtrain;\n",
    "df_ytrain.\n",
    "\n",
    "__ Training feature datasets to be pre-processed:__\n",
    "\n",
    "df_Xtrain_Norm;\n",
    "df_Xtrain_logTrans"
   ]
  },
  {
   "cell_type": "code",
   "execution_count": 2,
   "metadata": {
    "collapsed": true
   },
   "outputs": [],
   "source": [
    "# Creating a Panda DataFrame from csv file for Xtrain. \n",
    "df_Xtrain = pd.read_csv('spamData_Xtrain.csv',header=None)\n",
    "# Creating a Panda DataFrame from csv file for ytrain.\n",
    "df_ytrain = pd.read_csv('spamData_ytrain.csv',header=None)\n",
    "\n",
    "# This DataFrame is going to be normalized. \n",
    "df_Xtrain_Norm = pd.read_csv('spamData_Xtrain.csv',header=None)\n",
    "# This DataFrame is going to be log-transformed. \n",
    "df_Xtrain_logTrans = pd.read_csv('spamData_Xtrain.csv',header=None)"
   ]
  },
  {
   "cell_type": "markdown",
   "metadata": {},
   "source": [
    "__ Creating DataFrames for test dataset.__\n",
    "\n",
    "df_Xtest;\n",
    "df_ytest.\n",
    "\n",
    "__ Training feature datasets to be pre-processed:__\n",
    "\n",
    "df_Xtest_Norm;\n",
    "df_Xtest_logTrans"
   ]
  },
  {
   "cell_type": "code",
   "execution_count": 3,
   "metadata": {
    "collapsed": true
   },
   "outputs": [],
   "source": [
    "# Creating a Panda DataFrame from csv file for Xtest. \n",
    "df_Xtest = pd.read_csv('spamData_Xtest.csv',header=None)\n",
    "# Creating a Panda DataFrame from csv file for ytest.\n",
    "df_ytest = pd.read_csv('spamData_ytest.csv',header=None)\n",
    "\n",
    "# This DataFrame is going to be normalized. \n",
    "df_Xtest_Norm = pd.read_csv('spamData_Xtest.csv',header=None)\n",
    "# This DataFrame is going to be log-transformed. \n",
    "df_Xtest_logTrans = pd.read_csv('spamData_Xtest.csv',header=None)"
   ]
  },
  {
   "cell_type": "markdown",
   "metadata": {},
   "source": [
    "___"
   ]
  },
  {
   "cell_type": "markdown",
   "metadata": {},
   "source": [
    "# Implementation"
   ]
  },
  {
   "cell_type": "markdown",
   "metadata": {},
   "source": [
    "## 1. Data Exploration "
   ]
  },
  {
   "cell_type": "code",
   "execution_count": 4,
   "metadata": {},
   "outputs": [
    {
     "data": {
      "text/html": [
       "<div>\n",
       "<style>\n",
       "    .dataframe thead tr:only-child th {\n",
       "        text-align: right;\n",
       "    }\n",
       "\n",
       "    .dataframe thead th {\n",
       "        text-align: left;\n",
       "    }\n",
       "\n",
       "    .dataframe tbody tr th {\n",
       "        vertical-align: top;\n",
       "    }\n",
       "</style>\n",
       "<table border=\"1\" class=\"dataframe\">\n",
       "  <thead>\n",
       "    <tr style=\"text-align: right;\">\n",
       "      <th></th>\n",
       "      <th>0</th>\n",
       "      <th>1</th>\n",
       "      <th>2</th>\n",
       "      <th>3</th>\n",
       "      <th>4</th>\n",
       "      <th>5</th>\n",
       "      <th>6</th>\n",
       "      <th>7</th>\n",
       "      <th>8</th>\n",
       "      <th>9</th>\n",
       "      <th>...</th>\n",
       "      <th>47</th>\n",
       "      <th>48</th>\n",
       "      <th>49</th>\n",
       "      <th>50</th>\n",
       "      <th>51</th>\n",
       "      <th>52</th>\n",
       "      <th>53</th>\n",
       "      <th>54</th>\n",
       "      <th>55</th>\n",
       "      <th>56</th>\n",
       "    </tr>\n",
       "  </thead>\n",
       "  <tbody>\n",
       "    <tr>\n",
       "      <th>count</th>\n",
       "      <td>3065.00000</td>\n",
       "      <td>3065.00000</td>\n",
       "      <td>3065.00000</td>\n",
       "      <td>3065.00000</td>\n",
       "      <td>3065.00000</td>\n",
       "      <td>3065.00000</td>\n",
       "      <td>3065.00000</td>\n",
       "      <td>3065.00000</td>\n",
       "      <td>3065.00000</td>\n",
       "      <td>3065.00000</td>\n",
       "      <td>...</td>\n",
       "      <td>3065.00000</td>\n",
       "      <td>3065.00000</td>\n",
       "      <td>3065.00000</td>\n",
       "      <td>3065.00000</td>\n",
       "      <td>3065.00000</td>\n",
       "      <td>3065.00000</td>\n",
       "      <td>3065.00000</td>\n",
       "      <td>3065.00000</td>\n",
       "      <td>3065.00000</td>\n",
       "      <td>3065.00000</td>\n",
       "    </tr>\n",
       "    <tr>\n",
       "      <th>mean</th>\n",
       "      <td>0.11019</td>\n",
       "      <td>0.20197</td>\n",
       "      <td>0.29365</td>\n",
       "      <td>0.03979</td>\n",
       "      <td>0.31255</td>\n",
       "      <td>0.09778</td>\n",
       "      <td>0.11972</td>\n",
       "      <td>0.10327</td>\n",
       "      <td>0.09416</td>\n",
       "      <td>0.23745</td>\n",
       "      <td>...</td>\n",
       "      <td>0.03049</td>\n",
       "      <td>0.03407</td>\n",
       "      <td>0.14111</td>\n",
       "      <td>0.01823</td>\n",
       "      <td>0.26591</td>\n",
       "      <td>0.07643</td>\n",
       "      <td>0.04680</td>\n",
       "      <td>5.93462</td>\n",
       "      <td>55.57520</td>\n",
       "      <td>289.05905</td>\n",
       "    </tr>\n",
       "    <tr>\n",
       "      <th>std</th>\n",
       "      <td>0.31731</td>\n",
       "      <td>1.22255</td>\n",
       "      <td>0.52578</td>\n",
       "      <td>0.95467</td>\n",
       "      <td>0.66263</td>\n",
       "      <td>0.26659</td>\n",
       "      <td>0.41477</td>\n",
       "      <td>0.34843</td>\n",
       "      <td>0.29057</td>\n",
       "      <td>0.57170</td>\n",
       "      <td>...</td>\n",
       "      <td>0.30917</td>\n",
       "      <td>0.20155</td>\n",
       "      <td>0.27950</td>\n",
       "      <td>0.11758</td>\n",
       "      <td>0.61761</td>\n",
       "      <td>0.23152</td>\n",
       "      <td>0.37479</td>\n",
       "      <td>38.36838</td>\n",
       "      <td>226.65263</td>\n",
       "      <td>642.77909</td>\n",
       "    </tr>\n",
       "    <tr>\n",
       "      <th>min</th>\n",
       "      <td>0.00000</td>\n",
       "      <td>0.00000</td>\n",
       "      <td>0.00000</td>\n",
       "      <td>0.00000</td>\n",
       "      <td>0.00000</td>\n",
       "      <td>0.00000</td>\n",
       "      <td>0.00000</td>\n",
       "      <td>0.00000</td>\n",
       "      <td>0.00000</td>\n",
       "      <td>0.00000</td>\n",
       "      <td>...</td>\n",
       "      <td>0.00000</td>\n",
       "      <td>0.00000</td>\n",
       "      <td>0.00000</td>\n",
       "      <td>0.00000</td>\n",
       "      <td>0.00000</td>\n",
       "      <td>0.00000</td>\n",
       "      <td>0.00000</td>\n",
       "      <td>1.00000</td>\n",
       "      <td>1.00000</td>\n",
       "      <td>1.00000</td>\n",
       "    </tr>\n",
       "    <tr>\n",
       "      <th>25%</th>\n",
       "      <td>0.00000</td>\n",
       "      <td>0.00000</td>\n",
       "      <td>0.00000</td>\n",
       "      <td>0.00000</td>\n",
       "      <td>0.00000</td>\n",
       "      <td>0.00000</td>\n",
       "      <td>0.00000</td>\n",
       "      <td>0.00000</td>\n",
       "      <td>0.00000</td>\n",
       "      <td>0.00000</td>\n",
       "      <td>...</td>\n",
       "      <td>0.00000</td>\n",
       "      <td>0.00000</td>\n",
       "      <td>0.00000</td>\n",
       "      <td>0.00000</td>\n",
       "      <td>0.00000</td>\n",
       "      <td>0.00000</td>\n",
       "      <td>0.00000</td>\n",
       "      <td>1.59200</td>\n",
       "      <td>6.00000</td>\n",
       "      <td>36.00000</td>\n",
       "    </tr>\n",
       "    <tr>\n",
       "      <th>50%</th>\n",
       "      <td>0.00000</td>\n",
       "      <td>0.00000</td>\n",
       "      <td>0.00000</td>\n",
       "      <td>0.00000</td>\n",
       "      <td>0.00000</td>\n",
       "      <td>0.00000</td>\n",
       "      <td>0.00000</td>\n",
       "      <td>0.00000</td>\n",
       "      <td>0.00000</td>\n",
       "      <td>0.00000</td>\n",
       "      <td>...</td>\n",
       "      <td>0.00000</td>\n",
       "      <td>0.00000</td>\n",
       "      <td>0.06800</td>\n",
       "      <td>0.00000</td>\n",
       "      <td>0.00000</td>\n",
       "      <td>0.00000</td>\n",
       "      <td>0.00000</td>\n",
       "      <td>2.28700</td>\n",
       "      <td>15.00000</td>\n",
       "      <td>94.00000</td>\n",
       "    </tr>\n",
       "    <tr>\n",
       "      <th>75%</th>\n",
       "      <td>0.00000</td>\n",
       "      <td>0.00000</td>\n",
       "      <td>0.43000</td>\n",
       "      <td>0.00000</td>\n",
       "      <td>0.40000</td>\n",
       "      <td>0.00000</td>\n",
       "      <td>0.00000</td>\n",
       "      <td>0.00000</td>\n",
       "      <td>0.00000</td>\n",
       "      <td>0.16000</td>\n",
       "      <td>...</td>\n",
       "      <td>0.00000</td>\n",
       "      <td>0.00000</td>\n",
       "      <td>0.18900</td>\n",
       "      <td>0.00000</td>\n",
       "      <td>0.32400</td>\n",
       "      <td>0.05800</td>\n",
       "      <td>0.00000</td>\n",
       "      <td>3.78700</td>\n",
       "      <td>45.00000</td>\n",
       "      <td>273.00000</td>\n",
       "    </tr>\n",
       "    <tr>\n",
       "      <th>max</th>\n",
       "      <td>4.34000</td>\n",
       "      <td>14.28000</td>\n",
       "      <td>5.10000</td>\n",
       "      <td>42.73000</td>\n",
       "      <td>10.00000</td>\n",
       "      <td>3.57000</td>\n",
       "      <td>7.27000</td>\n",
       "      <td>4.68000</td>\n",
       "      <td>5.26000</td>\n",
       "      <td>5.26000</td>\n",
       "      <td>...</td>\n",
       "      <td>10.00000</td>\n",
       "      <td>4.36700</td>\n",
       "      <td>9.75200</td>\n",
       "      <td>4.08100</td>\n",
       "      <td>9.57500</td>\n",
       "      <td>5.30000</td>\n",
       "      <td>13.12900</td>\n",
       "      <td>1102.50000</td>\n",
       "      <td>9989.00000</td>\n",
       "      <td>15841.00000</td>\n",
       "    </tr>\n",
       "  </tbody>\n",
       "</table>\n",
       "<p>8 rows × 57 columns</p>\n",
       "</div>"
      ],
      "text/plain": [
       "              0          1          2          3          4          5   \\\n",
       "count 3065.00000 3065.00000 3065.00000 3065.00000 3065.00000 3065.00000   \n",
       "mean     0.11019    0.20197    0.29365    0.03979    0.31255    0.09778   \n",
       "std      0.31731    1.22255    0.52578    0.95467    0.66263    0.26659   \n",
       "min      0.00000    0.00000    0.00000    0.00000    0.00000    0.00000   \n",
       "25%      0.00000    0.00000    0.00000    0.00000    0.00000    0.00000   \n",
       "50%      0.00000    0.00000    0.00000    0.00000    0.00000    0.00000   \n",
       "75%      0.00000    0.00000    0.43000    0.00000    0.40000    0.00000   \n",
       "max      4.34000   14.28000    5.10000   42.73000   10.00000    3.57000   \n",
       "\n",
       "              6          7          8          9      ...             47  \\\n",
       "count 3065.00000 3065.00000 3065.00000 3065.00000     ...     3065.00000   \n",
       "mean     0.11972    0.10327    0.09416    0.23745     ...        0.03049   \n",
       "std      0.41477    0.34843    0.29057    0.57170     ...        0.30917   \n",
       "min      0.00000    0.00000    0.00000    0.00000     ...        0.00000   \n",
       "25%      0.00000    0.00000    0.00000    0.00000     ...        0.00000   \n",
       "50%      0.00000    0.00000    0.00000    0.00000     ...        0.00000   \n",
       "75%      0.00000    0.00000    0.00000    0.16000     ...        0.00000   \n",
       "max      7.27000    4.68000    5.26000    5.26000     ...       10.00000   \n",
       "\n",
       "              48         49         50         51         52         53  \\\n",
       "count 3065.00000 3065.00000 3065.00000 3065.00000 3065.00000 3065.00000   \n",
       "mean     0.03407    0.14111    0.01823    0.26591    0.07643    0.04680   \n",
       "std      0.20155    0.27950    0.11758    0.61761    0.23152    0.37479   \n",
       "min      0.00000    0.00000    0.00000    0.00000    0.00000    0.00000   \n",
       "25%      0.00000    0.00000    0.00000    0.00000    0.00000    0.00000   \n",
       "50%      0.00000    0.06800    0.00000    0.00000    0.00000    0.00000   \n",
       "75%      0.00000    0.18900    0.00000    0.32400    0.05800    0.00000   \n",
       "max      4.36700    9.75200    4.08100    9.57500    5.30000   13.12900   \n",
       "\n",
       "              54         55          56  \n",
       "count 3065.00000 3065.00000  3065.00000  \n",
       "mean     5.93462   55.57520   289.05905  \n",
       "std     38.36838  226.65263   642.77909  \n",
       "min      1.00000    1.00000     1.00000  \n",
       "25%      1.59200    6.00000    36.00000  \n",
       "50%      2.28700   15.00000    94.00000  \n",
       "75%      3.78700   45.00000   273.00000  \n",
       "max   1102.50000 9989.00000 15841.00000  \n",
       "\n",
       "[8 rows x 57 columns]"
      ]
     },
     "execution_count": 4,
     "metadata": {},
     "output_type": "execute_result"
    }
   ],
   "source": [
    "df_Xtrain.describe()"
   ]
  },
  {
   "cell_type": "code",
   "execution_count": 5,
   "metadata": {},
   "outputs": [
    {
     "name": "stdout",
     "output_type": "stream",
     "text": [
      "<class 'pandas.core.frame.DataFrame'>\n",
      "RangeIndex: 3065 entries, 0 to 3064\n",
      "Data columns (total 1 columns):\n",
      "0    3065 non-null int64\n",
      "dtypes: int64(1)\n",
      "memory usage: 24.0 KB\n"
     ]
    }
   ],
   "source": [
    "df_ytrain.info()"
   ]
  },
  {
   "cell_type": "code",
   "execution_count": 6,
   "metadata": {},
   "outputs": [
    {
     "data": {
      "image/png": "[encoded data removed]",
      "text/plain": [
       "<matplotlib.figure.Figure at 0x1a0e555a90>"
      ]
     },
     "metadata": {},
     "output_type": "display_data"
    }
   ],
   "source": [
    "# set the figure size\n",
    "fig=plt.figure(figsize=(15,10))\n",
    "# plot histogram to explore the normalized data.\n",
    "plt.subplot(221)\n",
    "_ = plt.hist(df_Xtrain.iloc[:,0],bins=20)\n",
    "_ = plt.xlabel('feature 0')\n",
    "_ = plt.ylabel('value')\n",
    "\n",
    "plt.subplot(222)\n",
    "_ = plt.hist(df_Xtrain.iloc[:,48],bins=20)\n",
    "_ = plt.xlabel('feature 49')\n",
    "_ = plt.ylabel('value')\n",
    "\n",
    "plt.subplot(223)\n",
    "_ = plt.hist(df_Xtrain.iloc[:,55],bins=20)\n",
    "_ = plt.xlabel('feature 56')\n",
    "_ = plt.ylabel('value')\n",
    "\n",
    "plt.subplot(224)\n",
    "_ = plt.hist(df_Xtrain.iloc[:,56],bins=20)\n",
    "_ = plt.xlabel('feature 57')\n",
    "_ = plt.ylabel('value')\n",
    "plt.show()"
   ]
  },
  {
   "cell_type": "markdown",
   "metadata": {},
   "source": [
    "___"
   ]
  },
  {
   "cell_type": "markdown",
   "metadata": {},
   "source": [
    "## 2. Data Processing"
   ]
  },
  {
   "cell_type": "markdown",
   "metadata": {},
   "source": [
    "### 2.1 Normalization: \n",
    "Standardize each column so they have 0 mean and unit variance. "
   ]
  },
  {
   "cell_type": "code",
   "execution_count": 7,
   "metadata": {
    "collapsed": true
   },
   "outputs": [],
   "source": [
    "def stdev(column):\n",
    "    avg = np.mean(column)\n",
    "    sd  = np.sum(np.square(column-avg))/(len(column)-1)\n",
    "    return np.sqrt(sd)\n",
    "\n",
    "def z_norm(column):\n",
    "    column = column - np.mean(column)\n",
    "    column = column/stdev(column)\n",
    "    return column"
   ]
  },
  {
   "cell_type": "code",
   "execution_count": 8,
   "metadata": {
    "collapsed": true
   },
   "outputs": [],
   "source": [
    "df_Xtrain_Norm = df_Xtrain_Norm.apply(z_norm)\n",
    "df_Xtest_Norm = df_Xtest_Norm.apply(z_norm)"
   ]
  },
  {
   "cell_type": "code",
   "execution_count": 9,
   "metadata": {},
   "outputs": [
    {
     "data": {
      "text/html": [
       "<div>\n",
       "<style>\n",
       "    .dataframe thead tr:only-child th {\n",
       "        text-align: right;\n",
       "    }\n",
       "\n",
       "    .dataframe thead th {\n",
       "        text-align: left;\n",
       "    }\n",
       "\n",
       "    .dataframe tbody tr th {\n",
       "        vertical-align: top;\n",
       "    }\n",
       "</style>\n",
       "<table border=\"1\" class=\"dataframe\">\n",
       "  <thead>\n",
       "    <tr style=\"text-align: right;\">\n",
       "      <th></th>\n",
       "      <th>0</th>\n",
       "      <th>1</th>\n",
       "      <th>2</th>\n",
       "      <th>3</th>\n",
       "      <th>4</th>\n",
       "      <th>5</th>\n",
       "      <th>6</th>\n",
       "      <th>7</th>\n",
       "      <th>8</th>\n",
       "      <th>9</th>\n",
       "      <th>...</th>\n",
       "      <th>47</th>\n",
       "      <th>48</th>\n",
       "      <th>49</th>\n",
       "      <th>50</th>\n",
       "      <th>51</th>\n",
       "      <th>52</th>\n",
       "      <th>53</th>\n",
       "      <th>54</th>\n",
       "      <th>55</th>\n",
       "      <th>56</th>\n",
       "    </tr>\n",
       "  </thead>\n",
       "  <tbody>\n",
       "    <tr>\n",
       "      <th>count</th>\n",
       "      <td>3065.00000</td>\n",
       "      <td>3065.00000</td>\n",
       "      <td>3065.00000</td>\n",
       "      <td>3065.00000</td>\n",
       "      <td>3065.00000</td>\n",
       "      <td>3065.00000</td>\n",
       "      <td>3065.00000</td>\n",
       "      <td>3065.00000</td>\n",
       "      <td>3065.00000</td>\n",
       "      <td>3065.00000</td>\n",
       "      <td>...</td>\n",
       "      <td>3065.00000</td>\n",
       "      <td>3065.00000</td>\n",
       "      <td>3065.00000</td>\n",
       "      <td>3065.00000</td>\n",
       "      <td>3065.00000</td>\n",
       "      <td>3065.00000</td>\n",
       "      <td>3065.00000</td>\n",
       "      <td>3065.00000</td>\n",
       "      <td>3065.00000</td>\n",
       "      <td>3065.00000</td>\n",
       "    </tr>\n",
       "    <tr>\n",
       "      <th>mean</th>\n",
       "      <td>0.00000</td>\n",
       "      <td>0.00000</td>\n",
       "      <td>0.00000</td>\n",
       "      <td>-0.00000</td>\n",
       "      <td>0.00000</td>\n",
       "      <td>-0.00000</td>\n",
       "      <td>-0.00000</td>\n",
       "      <td>-0.00000</td>\n",
       "      <td>-0.00000</td>\n",
       "      <td>-0.00000</td>\n",
       "      <td>...</td>\n",
       "      <td>0.00000</td>\n",
       "      <td>0.00000</td>\n",
       "      <td>0.00000</td>\n",
       "      <td>0.00000</td>\n",
       "      <td>0.00000</td>\n",
       "      <td>0.00000</td>\n",
       "      <td>-0.00000</td>\n",
       "      <td>0.00000</td>\n",
       "      <td>0.00000</td>\n",
       "      <td>-0.00000</td>\n",
       "    </tr>\n",
       "    <tr>\n",
       "      <th>std</th>\n",
       "      <td>1.00000</td>\n",
       "      <td>1.00000</td>\n",
       "      <td>1.00000</td>\n",
       "      <td>1.00000</td>\n",
       "      <td>1.00000</td>\n",
       "      <td>1.00000</td>\n",
       "      <td>1.00000</td>\n",
       "      <td>1.00000</td>\n",
       "      <td>1.00000</td>\n",
       "      <td>1.00000</td>\n",
       "      <td>...</td>\n",
       "      <td>1.00000</td>\n",
       "      <td>1.00000</td>\n",
       "      <td>1.00000</td>\n",
       "      <td>1.00000</td>\n",
       "      <td>1.00000</td>\n",
       "      <td>1.00000</td>\n",
       "      <td>1.00000</td>\n",
       "      <td>1.00000</td>\n",
       "      <td>1.00000</td>\n",
       "      <td>1.00000</td>\n",
       "    </tr>\n",
       "    <tr>\n",
       "      <th>min</th>\n",
       "      <td>-0.34726</td>\n",
       "      <td>-0.16521</td>\n",
       "      <td>-0.55851</td>\n",
       "      <td>-0.04168</td>\n",
       "      <td>-0.47168</td>\n",
       "      <td>-0.36680</td>\n",
       "      <td>-0.28864</td>\n",
       "      <td>-0.29638</td>\n",
       "      <td>-0.32404</td>\n",
       "      <td>-0.41533</td>\n",
       "      <td>...</td>\n",
       "      <td>-0.09861</td>\n",
       "      <td>-0.16902</td>\n",
       "      <td>-0.50485</td>\n",
       "      <td>-0.15508</td>\n",
       "      <td>-0.43054</td>\n",
       "      <td>-0.33012</td>\n",
       "      <td>-0.12486</td>\n",
       "      <td>-0.12861</td>\n",
       "      <td>-0.24079</td>\n",
       "      <td>-0.44815</td>\n",
       "    </tr>\n",
       "    <tr>\n",
       "      <th>25%</th>\n",
       "      <td>-0.34726</td>\n",
       "      <td>-0.16521</td>\n",
       "      <td>-0.55851</td>\n",
       "      <td>-0.04168</td>\n",
       "      <td>-0.47168</td>\n",
       "      <td>-0.36680</td>\n",
       "      <td>-0.28864</td>\n",
       "      <td>-0.29638</td>\n",
       "      <td>-0.32404</td>\n",
       "      <td>-0.41533</td>\n",
       "      <td>...</td>\n",
       "      <td>-0.09861</td>\n",
       "      <td>-0.16902</td>\n",
       "      <td>-0.50485</td>\n",
       "      <td>-0.15508</td>\n",
       "      <td>-0.43054</td>\n",
       "      <td>-0.33012</td>\n",
       "      <td>-0.12486</td>\n",
       "      <td>-0.11318</td>\n",
       "      <td>-0.21873</td>\n",
       "      <td>-0.39370</td>\n",
       "    </tr>\n",
       "    <tr>\n",
       "      <th>50%</th>\n",
       "      <td>-0.34726</td>\n",
       "      <td>-0.16521</td>\n",
       "      <td>-0.55851</td>\n",
       "      <td>-0.04168</td>\n",
       "      <td>-0.47168</td>\n",
       "      <td>-0.36680</td>\n",
       "      <td>-0.28864</td>\n",
       "      <td>-0.29638</td>\n",
       "      <td>-0.32404</td>\n",
       "      <td>-0.41533</td>\n",
       "      <td>...</td>\n",
       "      <td>-0.09861</td>\n",
       "      <td>-0.16902</td>\n",
       "      <td>-0.26156</td>\n",
       "      <td>-0.15508</td>\n",
       "      <td>-0.43054</td>\n",
       "      <td>-0.33012</td>\n",
       "      <td>-0.12486</td>\n",
       "      <td>-0.09507</td>\n",
       "      <td>-0.17902</td>\n",
       "      <td>-0.30346</td>\n",
       "    </tr>\n",
       "    <tr>\n",
       "      <th>75%</th>\n",
       "      <td>-0.34726</td>\n",
       "      <td>-0.16521</td>\n",
       "      <td>0.25933</td>\n",
       "      <td>-0.04168</td>\n",
       "      <td>0.13197</td>\n",
       "      <td>-0.36680</td>\n",
       "      <td>-0.28864</td>\n",
       "      <td>-0.29638</td>\n",
       "      <td>-0.32404</td>\n",
       "      <td>-0.13547</td>\n",
       "      <td>...</td>\n",
       "      <td>-0.09861</td>\n",
       "      <td>-0.16902</td>\n",
       "      <td>0.17136</td>\n",
       "      <td>-0.15508</td>\n",
       "      <td>0.09406</td>\n",
       "      <td>-0.07959</td>\n",
       "      <td>-0.12486</td>\n",
       "      <td>-0.05597</td>\n",
       "      <td>-0.04666</td>\n",
       "      <td>-0.02498</td>\n",
       "    </tr>\n",
       "    <tr>\n",
       "      <th>max</th>\n",
       "      <td>13.33031</td>\n",
       "      <td>11.51534</td>\n",
       "      <td>9.14143</td>\n",
       "      <td>44.71735</td>\n",
       "      <td>14.61971</td>\n",
       "      <td>13.02453</td>\n",
       "      <td>17.23926</td>\n",
       "      <td>13.13527</td>\n",
       "      <td>17.77800</td>\n",
       "      <td>8.78533</td>\n",
       "      <td>...</td>\n",
       "      <td>32.24581</td>\n",
       "      <td>21.49806</td>\n",
       "      <td>34.38640</td>\n",
       "      <td>34.55372</td>\n",
       "      <td>15.07273</td>\n",
       "      <td>22.56256</td>\n",
       "      <td>34.90546</td>\n",
       "      <td>28.57993</td>\n",
       "      <td>43.82665</td>\n",
       "      <td>24.19485</td>\n",
       "    </tr>\n",
       "  </tbody>\n",
       "</table>\n",
       "<p>8 rows × 57 columns</p>\n",
       "</div>"
      ],
      "text/plain": [
       "              0          1          2          3          4          5   \\\n",
       "count 3065.00000 3065.00000 3065.00000 3065.00000 3065.00000 3065.00000   \n",
       "mean     0.00000    0.00000    0.00000   -0.00000    0.00000   -0.00000   \n",
       "std      1.00000    1.00000    1.00000    1.00000    1.00000    1.00000   \n",
       "min     -0.34726   -0.16521   -0.55851   -0.04168   -0.47168   -0.36680   \n",
       "25%     -0.34726   -0.16521   -0.55851   -0.04168   -0.47168   -0.36680   \n",
       "50%     -0.34726   -0.16521   -0.55851   -0.04168   -0.47168   -0.36680   \n",
       "75%     -0.34726   -0.16521    0.25933   -0.04168    0.13197   -0.36680   \n",
       "max     13.33031   11.51534    9.14143   44.71735   14.61971   13.02453   \n",
       "\n",
       "              6          7          8          9     ...             47  \\\n",
       "count 3065.00000 3065.00000 3065.00000 3065.00000    ...     3065.00000   \n",
       "mean    -0.00000   -0.00000   -0.00000   -0.00000    ...        0.00000   \n",
       "std      1.00000    1.00000    1.00000    1.00000    ...        1.00000   \n",
       "min     -0.28864   -0.29638   -0.32404   -0.41533    ...       -0.09861   \n",
       "25%     -0.28864   -0.29638   -0.32404   -0.41533    ...       -0.09861   \n",
       "50%     -0.28864   -0.29638   -0.32404   -0.41533    ...       -0.09861   \n",
       "75%     -0.28864   -0.29638   -0.32404   -0.13547    ...       -0.09861   \n",
       "max     17.23926   13.13527   17.77800    8.78533    ...       32.24581   \n",
       "\n",
       "              48         49         50         51         52         53  \\\n",
       "count 3065.00000 3065.00000 3065.00000 3065.00000 3065.00000 3065.00000   \n",
       "mean     0.00000    0.00000    0.00000    0.00000    0.00000   -0.00000   \n",
       "std      1.00000    1.00000    1.00000    1.00000    1.00000    1.00000   \n",
       "min     -0.16902   -0.50485   -0.15508   -0.43054   -0.33012   -0.12486   \n",
       "25%     -0.16902   -0.50485   -0.15508   -0.43054   -0.33012   -0.12486   \n",
       "50%     -0.16902   -0.26156   -0.15508   -0.43054   -0.33012   -0.12486   \n",
       "75%     -0.16902    0.17136   -0.15508    0.09406   -0.07959   -0.12486   \n",
       "max     21.49806   34.38640   34.55372   15.07273   22.56256   34.90546   \n",
       "\n",
       "              54         55         56  \n",
       "count 3065.00000 3065.00000 3065.00000  \n",
       "mean     0.00000    0.00000   -0.00000  \n",
       "std      1.00000    1.00000    1.00000  \n",
       "min     -0.12861   -0.24079   -0.44815  \n",
       "25%     -0.11318   -0.21873   -0.39370  \n",
       "50%     -0.09507   -0.17902   -0.30346  \n",
       "75%     -0.05597   -0.04666   -0.02498  \n",
       "max     28.57993   43.82665   24.19485  \n",
       "\n",
       "[8 rows x 57 columns]"
      ]
     },
     "execution_count": 9,
     "metadata": {},
     "output_type": "execute_result"
    }
   ],
   "source": [
    "df_Xtrain_Norm.describe()"
   ]
  },
  {
   "cell_type": "code",
   "execution_count": 10,
   "metadata": {},
   "outputs": [
    {
     "data": {
      "image/png": "[encoded data removed]",
      "text/plain": [
       "<matplotlib.figure.Figure at 0x1a0e5461d0>"
      ]
     },
     "metadata": {},
     "output_type": "display_data"
    }
   ],
   "source": [
    "# set the figure size\n",
    "fig=plt.figure(figsize=(15,10))\n",
    "# plot histogram to explore the normalized data.\n",
    "plt.subplot(221)\n",
    "_ = plt.hist(df_Xtrain_Norm.iloc[:,0],bins=20)\n",
    "_ = plt.xlabel('feature 0')\n",
    "_ = plt.ylabel('value')\n",
    "\n",
    "plt.subplot(222)\n",
    "_ = plt.hist(df_Xtrain_Norm.iloc[:,48],bins=20)\n",
    "_ = plt.xlabel('feature 49')\n",
    "_ = plt.ylabel('value')\n",
    "\n",
    "plt.subplot(223)\n",
    "_ = plt.hist(df_Xtrain_Norm.iloc[:,55],bins=20)\n",
    "_ = plt.xlabel('feature 56')\n",
    "_ = plt.ylabel('value')\n",
    "\n",
    "plt.subplot(224)\n",
    "_ = plt.hist(df_Xtrain_Norm.iloc[:,56],bins=20)\n",
    "_ = plt.xlabel('feature 57')\n",
    "_ = plt.ylabel('value')\n",
    "plt.show()"
   ]
  },
  {
   "cell_type": "markdown",
   "metadata": {},
   "source": [
    "### 2.2 Log-transform:\n",
    "Transform each feature using $\\log(x_{i,j}+0.1)$ (assume natural log)\n",
    "\n",
    "The log transformation can be used to make highly skewed distributions less skewed."
   ]
  },
  {
   "cell_type": "code",
   "execution_count": 11,
   "metadata": {
    "collapsed": true
   },
   "outputs": [],
   "source": [
    "df_Xtrain_logTrans = np.log(df_Xtrain_logTrans+0.1)\n",
    "df_Xtest_logTrans = np.log(df_Xtest_logTrans+0.1)"
   ]
  },
  {
   "cell_type": "code",
   "execution_count": 12,
   "metadata": {},
   "outputs": [
    {
     "data": {
      "text/html": [
       "<div>\n",
       "<style>\n",
       "    .dataframe thead tr:only-child th {\n",
       "        text-align: right;\n",
       "    }\n",
       "\n",
       "    .dataframe thead th {\n",
       "        text-align: left;\n",
       "    }\n",
       "\n",
       "    .dataframe tbody tr th {\n",
       "        vertical-align: top;\n",
       "    }\n",
       "</style>\n",
       "<table border=\"1\" class=\"dataframe\">\n",
       "  <thead>\n",
       "    <tr style=\"text-align: right;\">\n",
       "      <th></th>\n",
       "      <th>0</th>\n",
       "      <th>1</th>\n",
       "      <th>2</th>\n",
       "      <th>3</th>\n",
       "      <th>4</th>\n",
       "      <th>5</th>\n",
       "      <th>6</th>\n",
       "      <th>7</th>\n",
       "      <th>8</th>\n",
       "      <th>9</th>\n",
       "      <th>...</th>\n",
       "      <th>47</th>\n",
       "      <th>48</th>\n",
       "      <th>49</th>\n",
       "      <th>50</th>\n",
       "      <th>51</th>\n",
       "      <th>52</th>\n",
       "      <th>53</th>\n",
       "      <th>54</th>\n",
       "      <th>55</th>\n",
       "      <th>56</th>\n",
       "    </tr>\n",
       "  </thead>\n",
       "  <tbody>\n",
       "    <tr>\n",
       "      <th>count</th>\n",
       "      <td>3065.00000</td>\n",
       "      <td>3065.00000</td>\n",
       "      <td>3065.00000</td>\n",
       "      <td>3065.00000</td>\n",
       "      <td>3065.00000</td>\n",
       "      <td>3065.00000</td>\n",
       "      <td>3065.00000</td>\n",
       "      <td>3065.00000</td>\n",
       "      <td>3065.00000</td>\n",
       "      <td>3065.00000</td>\n",
       "      <td>...</td>\n",
       "      <td>3065.00000</td>\n",
       "      <td>3065.00000</td>\n",
       "      <td>3065.00000</td>\n",
       "      <td>3065.00000</td>\n",
       "      <td>3065.00000</td>\n",
       "      <td>3065.00000</td>\n",
       "      <td>3065.00000</td>\n",
       "      <td>3065.00000</td>\n",
       "      <td>3065.00000</td>\n",
       "      <td>3065.00000</td>\n",
       "    </tr>\n",
       "    <tr>\n",
       "      <th>mean</th>\n",
       "      <td>-1.95866</td>\n",
       "      <td>-1.97169</td>\n",
       "      <td>-1.52871</td>\n",
       "      <td>-2.27945</td>\n",
       "      <td>-1.56638</td>\n",
       "      <td>-1.98105</td>\n",
       "      <td>-1.99863</td>\n",
       "      <td>-2.01451</td>\n",
       "      <td>-2.02163</td>\n",
       "      <td>-1.75490</td>\n",
       "      <td>...</td>\n",
       "      <td>-2.23567</td>\n",
       "      <td>-2.16806</td>\n",
       "      <td>-1.68240</td>\n",
       "      <td>-2.21663</td>\n",
       "      <td>-1.56725</td>\n",
       "      <td>-1.98907</td>\n",
       "      <td>-2.16278</td>\n",
       "      <td>1.01300</td>\n",
       "      <td>2.79680</td>\n",
       "      <td>4.54748</td>\n",
       "    </tr>\n",
       "    <tr>\n",
       "      <th>std</th>\n",
       "      <td>0.71186</td>\n",
       "      <td>0.79319</td>\n",
       "      <td>1.01377</td>\n",
       "      <td>0.27707</td>\n",
       "      <td>1.04414</td>\n",
       "      <td>0.68442</td>\n",
       "      <td>0.73689</td>\n",
       "      <td>0.69271</td>\n",
       "      <td>0.67991</td>\n",
       "      <td>0.96754</td>\n",
       "      <td>...</td>\n",
       "      <td>0.36799</td>\n",
       "      <td>0.39555</td>\n",
       "      <td>0.65527</td>\n",
       "      <td>0.29453</td>\n",
       "      <td>0.92814</td>\n",
       "      <td>0.57760</td>\n",
       "      <td>0.43817</td>\n",
       "      <td>0.75753</td>\n",
       "      <td>1.45422</td>\n",
       "      <td>1.55061</td>\n",
       "    </tr>\n",
       "    <tr>\n",
       "      <th>min</th>\n",
       "      <td>-2.30259</td>\n",
       "      <td>-2.30259</td>\n",
       "      <td>-2.30259</td>\n",
       "      <td>-2.30259</td>\n",
       "      <td>-2.30259</td>\n",
       "      <td>-2.30259</td>\n",
       "      <td>-2.30259</td>\n",
       "      <td>-2.30259</td>\n",
       "      <td>-2.30259</td>\n",
       "      <td>-2.30259</td>\n",
       "      <td>...</td>\n",
       "      <td>-2.30259</td>\n",
       "      <td>-2.30259</td>\n",
       "      <td>-2.30259</td>\n",
       "      <td>-2.30259</td>\n",
       "      <td>-2.30259</td>\n",
       "      <td>-2.30259</td>\n",
       "      <td>-2.30259</td>\n",
       "      <td>0.09531</td>\n",
       "      <td>0.09531</td>\n",
       "      <td>0.09531</td>\n",
       "    </tr>\n",
       "    <tr>\n",
       "      <th>25%</th>\n",
       "      <td>-2.30259</td>\n",
       "      <td>-2.30259</td>\n",
       "      <td>-2.30259</td>\n",
       "      <td>-2.30259</td>\n",
       "      <td>-2.30259</td>\n",
       "      <td>-2.30259</td>\n",
       "      <td>-2.30259</td>\n",
       "      <td>-2.30259</td>\n",
       "      <td>-2.30259</td>\n",
       "      <td>-2.30259</td>\n",
       "      <td>...</td>\n",
       "      <td>-2.30259</td>\n",
       "      <td>-2.30259</td>\n",
       "      <td>-2.30259</td>\n",
       "      <td>-2.30259</td>\n",
       "      <td>-2.30259</td>\n",
       "      <td>-2.30259</td>\n",
       "      <td>-2.30259</td>\n",
       "      <td>0.52591</td>\n",
       "      <td>1.80829</td>\n",
       "      <td>3.58629</td>\n",
       "    </tr>\n",
       "    <tr>\n",
       "      <th>50%</th>\n",
       "      <td>-2.30259</td>\n",
       "      <td>-2.30259</td>\n",
       "      <td>-2.30259</td>\n",
       "      <td>-2.30259</td>\n",
       "      <td>-2.30259</td>\n",
       "      <td>-2.30259</td>\n",
       "      <td>-2.30259</td>\n",
       "      <td>-2.30259</td>\n",
       "      <td>-2.30259</td>\n",
       "      <td>-2.30259</td>\n",
       "      <td>...</td>\n",
       "      <td>-2.30259</td>\n",
       "      <td>-2.30259</td>\n",
       "      <td>-1.78379</td>\n",
       "      <td>-2.30259</td>\n",
       "      <td>-2.30259</td>\n",
       "      <td>-2.30259</td>\n",
       "      <td>-2.30259</td>\n",
       "      <td>0.87004</td>\n",
       "      <td>2.71469</td>\n",
       "      <td>4.54436</td>\n",
       "    </tr>\n",
       "    <tr>\n",
       "      <th>75%</th>\n",
       "      <td>-2.30259</td>\n",
       "      <td>-2.30259</td>\n",
       "      <td>-0.63488</td>\n",
       "      <td>-2.30259</td>\n",
       "      <td>-0.69315</td>\n",
       "      <td>-2.30259</td>\n",
       "      <td>-2.30259</td>\n",
       "      <td>-2.30259</td>\n",
       "      <td>-2.30259</td>\n",
       "      <td>-1.34707</td>\n",
       "      <td>...</td>\n",
       "      <td>-2.30259</td>\n",
       "      <td>-2.30259</td>\n",
       "      <td>-1.24133</td>\n",
       "      <td>-2.30259</td>\n",
       "      <td>-0.85802</td>\n",
       "      <td>-1.84516</td>\n",
       "      <td>-2.30259</td>\n",
       "      <td>1.35764</td>\n",
       "      <td>3.80888</td>\n",
       "      <td>5.60984</td>\n",
       "    </tr>\n",
       "    <tr>\n",
       "      <th>max</th>\n",
       "      <td>1.49065</td>\n",
       "      <td>2.66584</td>\n",
       "      <td>1.64866</td>\n",
       "      <td>3.75724</td>\n",
       "      <td>2.31254</td>\n",
       "      <td>1.30019</td>\n",
       "      <td>1.99742</td>\n",
       "      <td>1.56444</td>\n",
       "      <td>1.67896</td>\n",
       "      <td>1.67896</td>\n",
       "      <td>...</td>\n",
       "      <td>2.31254</td>\n",
       "      <td>1.49672</td>\n",
       "      <td>2.28767</td>\n",
       "      <td>1.43055</td>\n",
       "      <td>2.26955</td>\n",
       "      <td>1.68640</td>\n",
       "      <td>2.58241</td>\n",
       "      <td>7.00543</td>\n",
       "      <td>9.20925</td>\n",
       "      <td>9.67036</td>\n",
       "    </tr>\n",
       "  </tbody>\n",
       "</table>\n",
       "<p>8 rows × 57 columns</p>\n",
       "</div>"
      ],
      "text/plain": [
       "              0          1          2          3          4          5   \\\n",
       "count 3065.00000 3065.00000 3065.00000 3065.00000 3065.00000 3065.00000   \n",
       "mean    -1.95866   -1.97169   -1.52871   -2.27945   -1.56638   -1.98105   \n",
       "std      0.71186    0.79319    1.01377    0.27707    1.04414    0.68442   \n",
       "min     -2.30259   -2.30259   -2.30259   -2.30259   -2.30259   -2.30259   \n",
       "25%     -2.30259   -2.30259   -2.30259   -2.30259   -2.30259   -2.30259   \n",
       "50%     -2.30259   -2.30259   -2.30259   -2.30259   -2.30259   -2.30259   \n",
       "75%     -2.30259   -2.30259   -0.63488   -2.30259   -0.69315   -2.30259   \n",
       "max      1.49065    2.66584    1.64866    3.75724    2.31254    1.30019   \n",
       "\n",
       "              6          7          8          9     ...             47  \\\n",
       "count 3065.00000 3065.00000 3065.00000 3065.00000    ...     3065.00000   \n",
       "mean    -1.99863   -2.01451   -2.02163   -1.75490    ...       -2.23567   \n",
       "std      0.73689    0.69271    0.67991    0.96754    ...        0.36799   \n",
       "min     -2.30259   -2.30259   -2.30259   -2.30259    ...       -2.30259   \n",
       "25%     -2.30259   -2.30259   -2.30259   -2.30259    ...       -2.30259   \n",
       "50%     -2.30259   -2.30259   -2.30259   -2.30259    ...       -2.30259   \n",
       "75%     -2.30259   -2.30259   -2.30259   -1.34707    ...       -2.30259   \n",
       "max      1.99742    1.56444    1.67896    1.67896    ...        2.31254   \n",
       "\n",
       "              48         49         50         51         52         53  \\\n",
       "count 3065.00000 3065.00000 3065.00000 3065.00000 3065.00000 3065.00000   \n",
       "mean    -2.16806   -1.68240   -2.21663   -1.56725   -1.98907   -2.16278   \n",
       "std      0.39555    0.65527    0.29453    0.92814    0.57760    0.43817   \n",
       "min     -2.30259   -2.30259   -2.30259   -2.30259   -2.30259   -2.30259   \n",
       "25%     -2.30259   -2.30259   -2.30259   -2.30259   -2.30259   -2.30259   \n",
       "50%     -2.30259   -1.78379   -2.30259   -2.30259   -2.30259   -2.30259   \n",
       "75%     -2.30259   -1.24133   -2.30259   -0.85802   -1.84516   -2.30259   \n",
       "max      1.49672    2.28767    1.43055    2.26955    1.68640    2.58241   \n",
       "\n",
       "              54         55         56  \n",
       "count 3065.00000 3065.00000 3065.00000  \n",
       "mean     1.01300    2.79680    4.54748  \n",
       "std      0.75753    1.45422    1.55061  \n",
       "min      0.09531    0.09531    0.09531  \n",
       "25%      0.52591    1.80829    3.58629  \n",
       "50%      0.87004    2.71469    4.54436  \n",
       "75%      1.35764    3.80888    5.60984  \n",
       "max      7.00543    9.20925    9.67036  \n",
       "\n",
       "[8 rows x 57 columns]"
      ]
     },
     "execution_count": 12,
     "metadata": {},
     "output_type": "execute_result"
    }
   ],
   "source": [
    "df_Xtrain_logTrans.describe()"
   ]
  },
  {
   "cell_type": "code",
   "execution_count": 13,
   "metadata": {},
   "outputs": [
    {
     "data": {
      "image/png": "[encoded data removed]",
      "text/plain": [
       "<matplotlib.figure.Figure at 0x1a17e72860>"
      ]
     },
     "metadata": {},
     "output_type": "display_data"
    }
   ],
   "source": [
    "# set the figure size\n",
    "fig=plt.figure(figsize=(15,10))\n",
    "# plot histogram to explore the normalized data.\n",
    "plt.subplot(221)\n",
    "_ = plt.hist(df_Xtrain_logTrans.iloc[:,0],bins=20)\n",
    "_ = plt.xlabel('feature 0')\n",
    "_ = plt.ylabel('value')\n",
    "\n",
    "plt.subplot(222)\n",
    "_ = plt.hist(df_Xtrain_logTrans.iloc[:,48],bins=20)\n",
    "_ = plt.xlabel('feature 49')\n",
    "_ = plt.ylabel('value')\n",
    "\n",
    "plt.subplot(223)\n",
    "_ = plt.hist(df_Xtrain_logTrans.iloc[:,55],bins=20)\n",
    "_ = plt.xlabel('feature 56')\n",
    "_ = plt.ylabel('value')\n",
    "\n",
    "plt.subplot(224)\n",
    "_ = plt.hist(df_Xtrain_logTrans.iloc[:,56],bins=20)\n",
    "_ = plt.xlabel('feature 57')\n",
    "_ = plt.ylabel('value')\n",
    "plt.show()"
   ]
  },
  {
   "cell_type": "markdown",
   "metadata": {},
   "source": [
    "___"
   ]
  },
  {
   "cell_type": "markdown",
   "metadata": {},
   "source": [
    "## 3. Fitting the Classifier"
   ]
  },
  {
   "cell_type": "markdown",
   "metadata": {},
   "source": [
    "### 3.1 Mean, Variance Maximum Likelihood Estimate"
   ]
  },
  {
   "cell_type": "markdown",
   "metadata": {},
   "source": [
    "Calculate the maximum likelihood estimate of the mean and variance of each feature for the two class \"spam\" and \"not spam\"."
   ]
  },
  {
   "cell_type": "code",
   "execution_count": 14,
   "metadata": {
    "collapsed": true
   },
   "outputs": [],
   "source": [
    "def getEstimate(column,y):\n",
    "    \n",
    "    \"\"\"For the two class 'spam' and 'non-spam', \n",
    "    calcualte maximum lieklihood estimate of the mean and variance of each feature \"\"\"\n",
    "        \n",
    "    # Index of sample labled as spam\n",
    "    c1_index = y.iloc[:,0] == 1\n",
    "    # Index of sample labeld as non-spam\n",
    "    c0_index = y.iloc[:,0] == 0\n",
    "    \n",
    "    \n",
    "    # Get mean and standard variation estimate for class 'spam'\n",
    "    spam_mean = np.mean(column[c1_index])\n",
    "    spam_variance = np.std(column[c1_index])\n",
    "    \n",
    "    # Get mean and standard variation estimate for class 'non-spam'\n",
    "    non_spam_mean = np.mean(column[c0_index])\n",
    "    non_spam_variance = np.std(column[c0_index]) \n",
    "    \n",
    "    result = pd.DataFrame([spam_mean,spam_variance,non_spam_mean,non_spam_variance])\n",
    "    \n",
    "    return [spam_mean,spam_variance,non_spam_mean,non_spam_variance]"
   ]
  },
  {
   "cell_type": "code",
   "execution_count": 15,
   "metadata": {
    "collapsed": true
   },
   "outputs": [],
   "source": [
    "def convertToDataFrame(series):\n",
    "    dict_new = series.to_dict()\n",
    "    df_new = pd.DataFrame(dict_new)\n",
    "    df_new = df_new.transpose()\n",
    "    df_new.columns = ['spam_mean','spam_variance','non_spam_mean','non_spam_variance']\n",
    "    return df_new"
   ]
  },
  {
   "cell_type": "code",
   "execution_count": 16,
   "metadata": {
    "collapsed": true
   },
   "outputs": [],
   "source": [
    "df_estimate_Norm = convertToDataFrame(df_Xtrain_Norm.apply(getEstimate,args=(df_ytrain,)))\n",
    "df_estimate_logTrans = convertToDataFrame(df_Xtrain_logTrans.apply(getEstimate,args=(df_ytrain,)))"
   ]
  },
  {
   "cell_type": "code",
   "execution_count": 17,
   "metadata": {},
   "outputs": [
    {
     "data": {
      "text/html": [
       "<table><tr style=\"background-color:white;\"><td><div>\n",
       "<style>\n",
       "    .dataframe thead tr:only-child th {\n",
       "        text-align: right;\n",
       "    }\n",
       "\n",
       "    .dataframe thead th {\n",
       "        text-align: left;\n",
       "    }\n",
       "\n",
       "    .dataframe tbody tr th {\n",
       "        vertical-align: top;\n",
       "    }\n",
       "</style>\n",
       "<table border=\"1\" class=\"dataframe\">\n",
       "  <thead>\n",
       "    <tr style=\"text-align: right;\">\n",
       "      <th></th>\n",
       "      <th>spam_mean</th>\n",
       "      <th>spam_variance</th>\n",
       "      <th>non_spam_mean</th>\n",
       "      <th>non_spam_variance</th>\n",
       "    </tr>\n",
       "  </thead>\n",
       "  <tbody>\n",
       "    <tr>\n",
       "      <th>0</th>\n",
       "      <td>0.13392</td>\n",
       "      <td>0.94294</td>\n",
       "      <td>-0.09025</td>\n",
       "      <td>1.02661</td>\n",
       "    </tr>\n",
       "    <tr>\n",
       "      <th>1</th>\n",
       "      <td>-0.03322</td>\n",
       "      <td>0.26689</td>\n",
       "      <td>0.02239</td>\n",
       "      <td>1.27442</td>\n",
       "    </tr>\n",
       "    <tr>\n",
       "      <th>2</th>\n",
       "      <td>0.22621</td>\n",
       "      <td>0.94759</td>\n",
       "      <td>-0.15245</td>\n",
       "      <td>1.00524</td>\n",
       "    </tr>\n",
       "    <tr>\n",
       "      <th>3</th>\n",
       "      <td>0.06071</td>\n",
       "      <td>1.57355</td>\n",
       "      <td>-0.04091</td>\n",
       "      <td>0.02236</td>\n",
       "    </tr>\n",
       "    <tr>\n",
       "      <th>4</th>\n",
       "      <td>0.30395</td>\n",
       "      <td>1.08808</td>\n",
       "      <td>-0.20484</td>\n",
       "      <td>0.87823</td>\n",
       "    </tr>\n",
       "  </tbody>\n",
       "</table>\n",
       "</div></td><td><div>\n",
       "<style>\n",
       "    .dataframe thead tr:only-child th {\n",
       "        text-align: right;\n",
       "    }\n",
       "\n",
       "    .dataframe thead th {\n",
       "        text-align: left;\n",
       "    }\n",
       "\n",
       "    .dataframe tbody tr th {\n",
       "        vertical-align: top;\n",
       "    }\n",
       "</style>\n",
       "<table border=\"1\" class=\"dataframe\">\n",
       "  <thead>\n",
       "    <tr style=\"text-align: right;\">\n",
       "      <th></th>\n",
       "      <th>spam_mean</th>\n",
       "      <th>spam_variance</th>\n",
       "      <th>non_spam_mean</th>\n",
       "      <th>non_spam_variance</th>\n",
       "    </tr>\n",
       "  </thead>\n",
       "  <tbody>\n",
       "    <tr>\n",
       "      <th>0</th>\n",
       "      <td>-1.78467</td>\n",
       "      <td>0.79811</td>\n",
       "      <td>-2.07592</td>\n",
       "      <td>0.62012</td>\n",
       "    </tr>\n",
       "    <tr>\n",
       "      <th>1</th>\n",
       "      <td>-1.77474</td>\n",
       "      <td>0.81848</td>\n",
       "      <td>-2.10441</td>\n",
       "      <td>0.74671</td>\n",
       "    </tr>\n",
       "    <tr>\n",
       "      <th>2</th>\n",
       "      <td>-1.15438</td>\n",
       "      <td>1.02636</td>\n",
       "      <td>-1.78099</td>\n",
       "      <td>0.92291</td>\n",
       "    </tr>\n",
       "    <tr>\n",
       "      <th>3</th>\n",
       "      <td>-2.24923</td>\n",
       "      <td>0.42749</td>\n",
       "      <td>-2.29982</td>\n",
       "      <td>0.06535</td>\n",
       "    </tr>\n",
       "    <tr>\n",
       "      <th>4</th>\n",
       "      <td>-1.07436</td>\n",
       "      <td>1.10732</td>\n",
       "      <td>-1.89797</td>\n",
       "      <td>0.85142</td>\n",
       "    </tr>\n",
       "  </tbody>\n",
       "</table>\n",
       "</div></td></tr></table>"
      ],
      "text/plain": [
       "<IPython.core.display.HTML object>"
      ]
     },
     "execution_count": 17,
     "metadata": {},
     "output_type": "execute_result"
    }
   ],
   "source": [
    "multi_table([df_estimate_Norm.head(),df_estimate_logTrans.head()])"
   ]
  },
  {
   "cell_type": "markdown",
   "metadata": {},
   "source": [
    "___"
   ]
  },
  {
   "cell_type": "markdown",
   "metadata": {},
   "source": [
    "## 4. Make Prediction"
   ]
  },
  {
   "cell_type": "markdown",
   "metadata": {},
   "source": [
    "Compare the probability of the two class 'spam' and 'non-spam', then make prediction.\n",
    "\n",
    "The proabability of the two class are:\n",
    "\n",
    "* Spam: \n",
    "$$P({y=1}\\mid {x,T}) \\; \\propto \\; (\\overline{\\pi}_{c=1}) \\times \\prod_{j=1}^D P({x_j}\\mid {y=1,T})$$ \n",
    "* Non-spam: \n",
    "$$P({y=0}\\mid {x,T}) \\; \\propto \\; (\\overline{\\pi}_{c=0}) \\times \\prod_{j=1}^D P({x_j}\\mid {y=0,T})$$ "
   ]
  },
  {
   "cell_type": "markdown",
   "metadata": {},
   "source": [
    "### 4.1 Get $\\pi_c$\n",
    "The class label prior $\\pi_c$ is estimated using ML (maximum likelihood).\n",
    "\n",
    "$$\\pi_{c=1} = \\frac{number\\;of\\;spam}{number\\;of\\;training\\;samples}$$ \n",
    "\n",
    "$$\\pi_{c=0} = \\frac{number\\;of\\;non-spam}{number\\;of\\;training\\;samples}$$\n"
   ]
  },
  {
   "cell_type": "code",
   "execution_count": 18,
   "metadata": {},
   "outputs": [
    {
     "name": "stdout",
     "output_type": "stream",
     "text": [
      "The number of spam in the ytrain is 1234 .\n",
      "The number of training samples is 3065 .\n"
     ]
    }
   ],
   "source": [
    "print('The number of spam in the ytrain is',df_ytrain.sum().values[0],'.')\n",
    "print('The number of training samples is',df_ytrain.shape[0],'.')"
   ]
  },
  {
   "cell_type": "markdown",
   "metadata": {},
   "source": [
    "$\\pi_{c=1} = \\frac{1234}{3065}$ = 0.4026\n",
    "\n",
    "$\\pi_{c=0} = \\frac{1831}{3065}$ = 0.5974"
   ]
  },
  {
   "cell_type": "code",
   "execution_count": 19,
   "metadata": {
    "collapsed": true
   },
   "outputs": [],
   "source": [
    "# Set the class label prior\n",
    "pi_1 = 0.4026\n",
    "pi_0 = 0.5974"
   ]
  },
  {
   "cell_type": "markdown",
   "metadata": {},
   "source": [
    "### 4.2 Get $\\ P({x_j}\\mid {y=c,T})$ "
   ]
  },
  {
   "cell_type": "code",
   "execution_count": 20,
   "metadata": {
    "collapsed": true
   },
   "outputs": [],
   "source": [
    "def getPDF(column,estimate,c):\n",
    "    \"\"\"Get Normal PDF of each feature for the two classes and return the log10(PDF)\"\"\"\n",
    "    columnIndex = column.name\n",
    "    if c == 'spam':\n",
    "        mu, sigma = estimate.iloc[columnIndex,:][0:2]\n",
    "        column = norm.pdf(column,loc=mu,scale=sigma)\n",
    "    elif c == 'non-spam':\n",
    "        mu, sigma = estimate.iloc[columnIndex,:][2:4]\n",
    "        column = norm.pdf(column,loc=mu,scale=sigma)\n",
    "        \n",
    "    return column"
   ]
  },
  {
   "cell_type": "markdown",
   "metadata": {},
   "source": [
    "* Training dataset"
   ]
  },
  {
   "cell_type": "code",
   "execution_count": 21,
   "metadata": {
    "collapsed": true
   },
   "outputs": [],
   "source": [
    "# Calculate the log(probability) for class 'spam' and 'non-spam'\n",
    "# Data Preprocessing Method: Z-nomalization.\n",
    "df_Xtrain_Norm_PDF_spam = df_Xtrain_Norm.apply(getPDF,args=(df_estimate_Norm,'spam',))\n",
    "df_Xtrain_Norm_PDF_nonspam = df_Xtrain_Norm.apply(getPDF,args=(df_estimate_Norm,'non-spam',))"
   ]
  },
  {
   "cell_type": "code",
   "execution_count": 22,
   "metadata": {
    "collapsed": true
   },
   "outputs": [],
   "source": [
    "# Calculate the log(probability) for class 'spam' and 'non-spam'\n",
    "# Data Preprocessing Method: Log-transformation.\n",
    "df_Xtrain_logTrans_PDF_spam = df_Xtrain_logTrans.apply(getPDF,args=(df_estimate_logTrans,'spam',))\n",
    "df_Xtrain_logTrans_PDF_nonspam = df_Xtrain_logTrans.apply(getPDF,args=(df_estimate_logTrans,'non-spam',))"
   ]
  },
  {
   "cell_type": "markdown",
   "metadata": {},
   "source": [
    "* Test dataset"
   ]
  },
  {
   "cell_type": "code",
   "execution_count": 23,
   "metadata": {
    "collapsed": true
   },
   "outputs": [],
   "source": [
    "# Calculate the log(probability) for class 'spam' and 'non-spam'\n",
    "# Data Preprocessing Method: Z-normalization.\n",
    "df_Xtest_Norm_PDF_spam = df_Xtest_Norm.apply(getPDF,args=(df_estimate_Norm,'spam',))\n",
    "df_Xtest_Norm_PDF_nonspam = df_Xtest_Norm.apply(getPDF,args=(df_estimate_Norm,'non-spam',))"
   ]
  },
  {
   "cell_type": "code",
   "execution_count": 24,
   "metadata": {
    "collapsed": true
   },
   "outputs": [],
   "source": [
    "# Calculate the log(probability) for class non-spam.\n",
    "# Data Preprocessing Method: Log-transform.\n",
    "df_Xtest_logTrans_PDF_spam = df_Xtest_logTrans.apply(getPDF,args=(df_estimate_logTrans,'spam',))\n",
    "df_Xtest_logTrans_PDF_nonspam = df_Xtest_logTrans.apply(getPDF,args=(df_estimate_logTrans,'non-spam',))"
   ]
  },
  {
   "cell_type": "markdown",
   "metadata": {},
   "source": [
    "### 4.3 Compare $P({y=1}\\mid {x,T})$ and $P({y=0}\\mid {x,T})$ and make prediction\n",
    "\n",
    "$P({y=1}\\mid {x,T})-P({y=0}\\mid {x,T}) \\; \\propto \\; \\log(\\overline{\\pi}_{c=1})-\\log(\\overline{\\pi}_{c=0}) + \\sum_{j=1}^D\\log(P({x_j}\\mid {y=1,T}))-\\sum_{j=1}^D\\log(P({x_j}\\mid {y=0,T}))$ \n",
    "\n",
    "If the result is positive then the sample is most likely a spam."
   ]
  },
  {
   "cell_type": "code",
   "execution_count": 25,
   "metadata": {
    "collapsed": true
   },
   "outputs": [],
   "source": [
    "def pred(spam,nonspam,pi_1,pi_0):\n",
    "    result = spam.apply(np.prod,axis=1)*pi_1-nonspam.apply(np.prod,axis=1)*pi_0\n",
    "    df_result = pd.DataFrame(result)\n",
    "    spam = df_result > 0\n",
    "    nonspam = df_result <=0\n",
    "    df_result[spam] = 1\n",
    "    df_result[nonspam] = 0\n",
    "    \n",
    "    return df_result"
   ]
  },
  {
   "cell_type": "markdown",
   "metadata": {},
   "source": [
    "* Training dataset"
   ]
  },
  {
   "cell_type": "code",
   "execution_count": 26,
   "metadata": {
    "collapsed": true
   },
   "outputs": [],
   "source": [
    "df_ytrain_pred_Norm = pred(df_Xtrain_Norm_PDF_spam,df_Xtrain_Norm_PDF_nonspam,pi_1,pi_0)\n",
    "df_ytrain_pred_logTrans = pred(df_Xtrain_logTrans_PDF_spam,df_Xtrain_logTrans_PDF_nonspam,pi_1,pi_0)"
   ]
  },
  {
   "cell_type": "markdown",
   "metadata": {},
   "source": [
    "* Test dataset"
   ]
  },
  {
   "cell_type": "code",
   "execution_count": 27,
   "metadata": {
    "collapsed": true
   },
   "outputs": [],
   "source": [
    "df_ytest_pred_Norm = pred(df_Xtest_Norm_PDF_spam,df_Xtest_Norm_PDF_nonspam,pi_1,pi_0)\n",
    "df_ytest_pred_logTrans = pred(df_Xtest_logTrans_PDF_spam,df_Xtest_logTrans_PDF_nonspam,pi_1,pi_0)"
   ]
  },
  {
   "cell_type": "markdown",
   "metadata": {},
   "source": [
    "___"
   ]
  },
  {
   "cell_type": "markdown",
   "metadata": {},
   "source": [
    "## 5.  Calculate Error Rate"
   ]
  },
  {
   "cell_type": "code",
   "execution_count": 28,
   "metadata": {
    "collapsed": true
   },
   "outputs": [],
   "source": [
    "def getErrorRate(prediction,y):\n",
    "    \"\"\"Calculate the percentage of emails classified wrongly\"\"\"\n",
    "    compare = prediction == y\n",
    "    errorRate = 1-compare.sum().values[0]/compare.shape[0]\n",
    "    return errorRate"
   ]
  },
  {
   "cell_type": "markdown",
   "metadata": {},
   "source": [
    "* Traning dataset"
   ]
  },
  {
   "cell_type": "code",
   "execution_count": 29,
   "metadata": {
    "collapsed": true
   },
   "outputs": [],
   "source": [
    "Error_Rate_train_Norm = getErrorRate(df_ytrain_pred_Norm,df_ytrain)\n",
    "Error_Rate_train_logTrans = getErrorRate(df_ytrain_pred_logTrans,df_ytrain)"
   ]
  },
  {
   "cell_type": "code",
   "execution_count": 30,
   "metadata": {},
   "outputs": [
    {
     "name": "stdout",
     "output_type": "stream",
     "text": [
      "Training dataset error rate.\n",
      "For z-normalized dataset: 0.176508972268\n",
      "For log-transformed dataset: 0.161174551387\n"
     ]
    }
   ],
   "source": [
    "print('Training dataset error rate.')\n",
    "print('For z-normalized dataset:',Error_Rate_train_Norm)\n",
    "print('For log-transformed dataset:',Error_Rate_train_logTrans)"
   ]
  },
  {
   "cell_type": "markdown",
   "metadata": {},
   "source": [
    "* Test dataset"
   ]
  },
  {
   "cell_type": "code",
   "execution_count": 31,
   "metadata": {
    "collapsed": true
   },
   "outputs": [],
   "source": [
    "Error_Rate_test_Norm = getErrorRate(df_ytest_pred_Norm,df_ytest)\n",
    "Error_Rate_test_logTrans = getErrorRate(df_ytest_pred_logTrans,df_ytest)"
   ]
  },
  {
   "cell_type": "code",
   "execution_count": 32,
   "metadata": {},
   "outputs": [
    {
     "name": "stdout",
     "output_type": "stream",
     "text": [
      "Test dataset error rate.\n",
      "For z-normalized dataset: 0.202473958333\n",
      "For log-transformed dataset: 0.184244791667\n"
     ]
    }
   ],
   "source": [
    "print('Test dataset error rate.')\n",
    "print('For z-normalized dataset:',Error_Rate_test_Norm)\n",
    "print('For log-transformed dataset:',Error_Rate_test_logTrans)"
   ]
  },
  {
   "cell_type": "markdown",
   "metadata": {},
   "source": [
    "___"
   ]
  }
 ],
 "metadata": {
  "kernelspec": {
   "display_name": "Python 3",
   "language": "python",
   "name": "python3"
  },
  "language_info": {
   "codemirror_mode": {
    "name": "ipython",
    "version": 3
   },
   "file_extension": ".py",
   "mimetype": "text/x-python",
   "name": "python",
   "nbconvert_exporter": "python",
   "pygments_lexer": "ipython3",
   "version": "3.6.2"
  }
 },
 "nbformat": 4,
 "nbformat_minor": 2
}
