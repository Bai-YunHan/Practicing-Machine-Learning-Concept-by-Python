{
 "cells": [
  {
   "cell_type": "markdown",
   "metadata": {},
   "source": [
    "# Data Description\n",
    "\n",
    "The data is an email spam dataset, consisting of 4601 email messages with 57 features. Feature descriptions are found in this [link](https://web.stanford.edu/~hastie/ElemStatLearn/datasets/spam.info.txt). We have divided the data into a training set (3605 emails) and test set (1536 emails) with accompanying labels (1=spam,0=not spam)"
   ]
  },
  {
   "cell_type": "markdown",
   "metadata": {},
   "source": [
    "# Assumptions"
   ]
  },
  {
   "cell_type": "markdown",
   "metadata": {},
   "source": [
    "Fit a Beta-bernoulli naive Bayes classifier on the binarized data from the Data Processing section. Since there are a lot of spam and non-spam emails, you do not need to assume any prior on the class label. In other words, the class label prior $\\pi_c$ can be estimated using ML(maximum likelyhood) and you can use $\\pi_c^{ML}$ as a plug-in estimator for testing.\n",
    "\n",
    "On the other hand, you should assume a prior Beta(α, α) on the feature distribution (note that the two hyperparameters for the Beta prior are set to be equal). For each value of α = {0, 0.5, 1, 1.5, 2, · · · , 100}, fit the classifier on the training data and compute its error rate (i.e., percentage of emails classified wrongly) on the test data. For the features (i.e., when computing p(x|y)), use Bayesian (i.e., posterior predictive) training and testing."
   ]
  },
  {
   "cell_type": "markdown",
   "metadata": {},
   "source": [
    "# Setup"
   ]
  },
  {
   "cell_type": "code",
   "execution_count": 1,
   "metadata": {
    "collapsed": true
   },
   "outputs": [],
   "source": [
    "import pandas as pd\n",
    "import numpy as np\n",
    "import math\n",
    "import seaborn as sns\n",
    "import matplotlib.pyplot as plt\n",
    "from IPython.core.display import HTML\n",
    "\n",
    "# A function to enable displaying the tables side by side\n",
    "def multi_table(table_list):\n",
    "    ''' Acceps a list of IpyTable objects and returns a table which \n",
    "    contains each IpyTable in a cell\n",
    "    '''\n",
    "    return HTML(\n",
    "        '<table><tr style=\"background-color:white;\">' + \n",
    "        ''.join(['<td>' + table._repr_html_() + '</td>' for table in table_list]) +\n",
    "        '</tr></table>'\n",
    "    )\n",
    "\n",
    "# set seaborn style\n",
    "sns.set()"
   ]
  },
  {
   "cell_type": "markdown",
   "metadata": {},
   "source": [
    "Creating DataFrames for sample data Xtrain,ytrain,Xtest and ytest. \n",
    "\n",
    "Xtrain : `df_Xtrain`\n",
    "\n",
    "ytrain : `df_ytrain`\n",
    "\n",
    "Xtest  : `df_Xtest`\n",
    "\n",
    "ytest  : `df_ytest`"
   ]
  },
  {
   "cell_type": "code",
   "execution_count": 2,
   "metadata": {
    "collapsed": true
   },
   "outputs": [],
   "source": [
    "# Creating a DataFrame from csv file for Xtrain. \n",
    "df_Xtrain = pd.read_csv('spamData_Xtrain.csv',header=None)\n",
    "# This DataFrame is going to be binarized. \n",
    "df_Xtrain_Binary = pd.read_csv('spamData_Xtrain.csv',header=None)\n",
    "# Creating a DataFrame from csv file for ytrain.\n",
    "df_ytrain = pd.read_csv('spamData_ytrain.csv',header=None)\n",
    "df_ytrain.columns = ['spam']\n",
    "\n",
    "# Creating a DataFrame from csv file for Xtest. \n",
    "df_Xtest = pd.read_csv('spamData_Xtest.csv',header=None)\n",
    "# This DataFrame is going to be binarized. \n",
    "df_Xtest_Binary = pd.read_csv('spamData_Xtest.csv',header=None)\n",
    "# Creating a DataFrame from csv file for ytrain.\n",
    "df_ytest = pd.read_csv('spamData_ytest.csv',header=None)\n",
    "df_ytest.columns = ['spam']"
   ]
  },
  {
   "cell_type": "markdown",
   "metadata": {},
   "source": [
    "___"
   ]
  },
  {
   "cell_type": "markdown",
   "metadata": {},
   "source": [
    "# Implementation"
   ]
  },
  {
   "cell_type": "markdown",
   "metadata": {},
   "source": [
    "## 1. Data Exploration"
   ]
  },
  {
   "cell_type": "code",
   "execution_count": 3,
   "metadata": {},
   "outputs": [
    {
     "data": {
      "text/html": [
       "<div>\n",
       "<style>\n",
       "    .dataframe thead tr:only-child th {\n",
       "        text-align: right;\n",
       "    }\n",
       "\n",
       "    .dataframe thead th {\n",
       "        text-align: left;\n",
       "    }\n",
       "\n",
       "    .dataframe tbody tr th {\n",
       "        vertical-align: top;\n",
       "    }\n",
       "</style>\n",
       "<table border=\"1\" class=\"dataframe\">\n",
       "  <thead>\n",
       "    <tr style=\"text-align: right;\">\n",
       "      <th></th>\n",
       "      <th>0</th>\n",
       "      <th>1</th>\n",
       "      <th>2</th>\n",
       "      <th>3</th>\n",
       "      <th>4</th>\n",
       "      <th>5</th>\n",
       "      <th>6</th>\n",
       "      <th>7</th>\n",
       "      <th>8</th>\n",
       "      <th>9</th>\n",
       "      <th>...</th>\n",
       "      <th>47</th>\n",
       "      <th>48</th>\n",
       "      <th>49</th>\n",
       "      <th>50</th>\n",
       "      <th>51</th>\n",
       "      <th>52</th>\n",
       "      <th>53</th>\n",
       "      <th>54</th>\n",
       "      <th>55</th>\n",
       "      <th>56</th>\n",
       "    </tr>\n",
       "  </thead>\n",
       "  <tbody>\n",
       "    <tr>\n",
       "      <th>count</th>\n",
       "      <td>3065.000000</td>\n",
       "      <td>3065.000000</td>\n",
       "      <td>3065.000000</td>\n",
       "      <td>3065.000000</td>\n",
       "      <td>3065.000000</td>\n",
       "      <td>3065.000000</td>\n",
       "      <td>3065.000000</td>\n",
       "      <td>3065.000000</td>\n",
       "      <td>3065.000000</td>\n",
       "      <td>3065.000000</td>\n",
       "      <td>...</td>\n",
       "      <td>3065.000000</td>\n",
       "      <td>3065.000000</td>\n",
       "      <td>3065.000000</td>\n",
       "      <td>3065.000000</td>\n",
       "      <td>3065.000000</td>\n",
       "      <td>3065.000000</td>\n",
       "      <td>3065.000000</td>\n",
       "      <td>3065.000000</td>\n",
       "      <td>3065.000000</td>\n",
       "      <td>3065.000000</td>\n",
       "    </tr>\n",
       "    <tr>\n",
       "      <th>mean</th>\n",
       "      <td>0.110189</td>\n",
       "      <td>0.201971</td>\n",
       "      <td>0.293651</td>\n",
       "      <td>0.039791</td>\n",
       "      <td>0.312551</td>\n",
       "      <td>0.097785</td>\n",
       "      <td>0.119719</td>\n",
       "      <td>0.103269</td>\n",
       "      <td>0.094157</td>\n",
       "      <td>0.237445</td>\n",
       "      <td>...</td>\n",
       "      <td>0.030486</td>\n",
       "      <td>0.034066</td>\n",
       "      <td>0.141105</td>\n",
       "      <td>0.018234</td>\n",
       "      <td>0.265909</td>\n",
       "      <td>0.076427</td>\n",
       "      <td>0.046795</td>\n",
       "      <td>5.934619</td>\n",
       "      <td>55.575204</td>\n",
       "      <td>289.059054</td>\n",
       "    </tr>\n",
       "    <tr>\n",
       "      <th>std</th>\n",
       "      <td>0.317308</td>\n",
       "      <td>1.222545</td>\n",
       "      <td>0.525776</td>\n",
       "      <td>0.954668</td>\n",
       "      <td>0.662629</td>\n",
       "      <td>0.266590</td>\n",
       "      <td>0.414767</td>\n",
       "      <td>0.348431</td>\n",
       "      <td>0.290575</td>\n",
       "      <td>0.571698</td>\n",
       "      <td>...</td>\n",
       "      <td>0.309172</td>\n",
       "      <td>0.201550</td>\n",
       "      <td>0.279497</td>\n",
       "      <td>0.117578</td>\n",
       "      <td>0.617612</td>\n",
       "      <td>0.231515</td>\n",
       "      <td>0.374790</td>\n",
       "      <td>38.368377</td>\n",
       "      <td>226.652630</td>\n",
       "      <td>642.779087</td>\n",
       "    </tr>\n",
       "    <tr>\n",
       "      <th>min</th>\n",
       "      <td>0.000000</td>\n",
       "      <td>0.000000</td>\n",
       "      <td>0.000000</td>\n",
       "      <td>0.000000</td>\n",
       "      <td>0.000000</td>\n",
       "      <td>0.000000</td>\n",
       "      <td>0.000000</td>\n",
       "      <td>0.000000</td>\n",
       "      <td>0.000000</td>\n",
       "      <td>0.000000</td>\n",
       "      <td>...</td>\n",
       "      <td>0.000000</td>\n",
       "      <td>0.000000</td>\n",
       "      <td>0.000000</td>\n",
       "      <td>0.000000</td>\n",
       "      <td>0.000000</td>\n",
       "      <td>0.000000</td>\n",
       "      <td>0.000000</td>\n",
       "      <td>1.000000</td>\n",
       "      <td>1.000000</td>\n",
       "      <td>1.000000</td>\n",
       "    </tr>\n",
       "    <tr>\n",
       "      <th>25%</th>\n",
       "      <td>0.000000</td>\n",
       "      <td>0.000000</td>\n",
       "      <td>0.000000</td>\n",
       "      <td>0.000000</td>\n",
       "      <td>0.000000</td>\n",
       "      <td>0.000000</td>\n",
       "      <td>0.000000</td>\n",
       "      <td>0.000000</td>\n",
       "      <td>0.000000</td>\n",
       "      <td>0.000000</td>\n",
       "      <td>...</td>\n",
       "      <td>0.000000</td>\n",
       "      <td>0.000000</td>\n",
       "      <td>0.000000</td>\n",
       "      <td>0.000000</td>\n",
       "      <td>0.000000</td>\n",
       "      <td>0.000000</td>\n",
       "      <td>0.000000</td>\n",
       "      <td>1.592000</td>\n",
       "      <td>6.000000</td>\n",
       "      <td>36.000000</td>\n",
       "    </tr>\n",
       "    <tr>\n",
       "      <th>50%</th>\n",
       "      <td>0.000000</td>\n",
       "      <td>0.000000</td>\n",
       "      <td>0.000000</td>\n",
       "      <td>0.000000</td>\n",
       "      <td>0.000000</td>\n",
       "      <td>0.000000</td>\n",
       "      <td>0.000000</td>\n",
       "      <td>0.000000</td>\n",
       "      <td>0.000000</td>\n",
       "      <td>0.000000</td>\n",
       "      <td>...</td>\n",
       "      <td>0.000000</td>\n",
       "      <td>0.000000</td>\n",
       "      <td>0.068000</td>\n",
       "      <td>0.000000</td>\n",
       "      <td>0.000000</td>\n",
       "      <td>0.000000</td>\n",
       "      <td>0.000000</td>\n",
       "      <td>2.287000</td>\n",
       "      <td>15.000000</td>\n",
       "      <td>94.000000</td>\n",
       "    </tr>\n",
       "    <tr>\n",
       "      <th>75%</th>\n",
       "      <td>0.000000</td>\n",
       "      <td>0.000000</td>\n",
       "      <td>0.430000</td>\n",
       "      <td>0.000000</td>\n",
       "      <td>0.400000</td>\n",
       "      <td>0.000000</td>\n",
       "      <td>0.000000</td>\n",
       "      <td>0.000000</td>\n",
       "      <td>0.000000</td>\n",
       "      <td>0.160000</td>\n",
       "      <td>...</td>\n",
       "      <td>0.000000</td>\n",
       "      <td>0.000000</td>\n",
       "      <td>0.189000</td>\n",
       "      <td>0.000000</td>\n",
       "      <td>0.324000</td>\n",
       "      <td>0.058000</td>\n",
       "      <td>0.000000</td>\n",
       "      <td>3.787000</td>\n",
       "      <td>45.000000</td>\n",
       "      <td>273.000000</td>\n",
       "    </tr>\n",
       "    <tr>\n",
       "      <th>max</th>\n",
       "      <td>4.340000</td>\n",
       "      <td>14.280000</td>\n",
       "      <td>5.100000</td>\n",
       "      <td>42.730000</td>\n",
       "      <td>10.000000</td>\n",
       "      <td>3.570000</td>\n",
       "      <td>7.270000</td>\n",
       "      <td>4.680000</td>\n",
       "      <td>5.260000</td>\n",
       "      <td>5.260000</td>\n",
       "      <td>...</td>\n",
       "      <td>10.000000</td>\n",
       "      <td>4.367000</td>\n",
       "      <td>9.752000</td>\n",
       "      <td>4.081000</td>\n",
       "      <td>9.575000</td>\n",
       "      <td>5.300000</td>\n",
       "      <td>13.129000</td>\n",
       "      <td>1102.500000</td>\n",
       "      <td>9989.000000</td>\n",
       "      <td>15841.000000</td>\n",
       "    </tr>\n",
       "  </tbody>\n",
       "</table>\n",
       "<p>8 rows × 57 columns</p>\n",
       "</div>"
      ],
      "text/plain": [
       "                0            1            2            3            4   \\\n",
       "count  3065.000000  3065.000000  3065.000000  3065.000000  3065.000000   \n",
       "mean      0.110189     0.201971     0.293651     0.039791     0.312551   \n",
       "std       0.317308     1.222545     0.525776     0.954668     0.662629   \n",
       "min       0.000000     0.000000     0.000000     0.000000     0.000000   \n",
       "25%       0.000000     0.000000     0.000000     0.000000     0.000000   \n",
       "50%       0.000000     0.000000     0.000000     0.000000     0.000000   \n",
       "75%       0.000000     0.000000     0.430000     0.000000     0.400000   \n",
       "max       4.340000    14.280000     5.100000    42.730000    10.000000   \n",
       "\n",
       "                5            6            7            8            9   \\\n",
       "count  3065.000000  3065.000000  3065.000000  3065.000000  3065.000000   \n",
       "mean      0.097785     0.119719     0.103269     0.094157     0.237445   \n",
       "std       0.266590     0.414767     0.348431     0.290575     0.571698   \n",
       "min       0.000000     0.000000     0.000000     0.000000     0.000000   \n",
       "25%       0.000000     0.000000     0.000000     0.000000     0.000000   \n",
       "50%       0.000000     0.000000     0.000000     0.000000     0.000000   \n",
       "75%       0.000000     0.000000     0.000000     0.000000     0.160000   \n",
       "max       3.570000     7.270000     4.680000     5.260000     5.260000   \n",
       "\n",
       "           ...                47           48           49           50  \\\n",
       "count      ...       3065.000000  3065.000000  3065.000000  3065.000000   \n",
       "mean       ...          0.030486     0.034066     0.141105     0.018234   \n",
       "std        ...          0.309172     0.201550     0.279497     0.117578   \n",
       "min        ...          0.000000     0.000000     0.000000     0.000000   \n",
       "25%        ...          0.000000     0.000000     0.000000     0.000000   \n",
       "50%        ...          0.000000     0.000000     0.068000     0.000000   \n",
       "75%        ...          0.000000     0.000000     0.189000     0.000000   \n",
       "max        ...         10.000000     4.367000     9.752000     4.081000   \n",
       "\n",
       "                51           52           53           54           55  \\\n",
       "count  3065.000000  3065.000000  3065.000000  3065.000000  3065.000000   \n",
       "mean      0.265909     0.076427     0.046795     5.934619    55.575204   \n",
       "std       0.617612     0.231515     0.374790    38.368377   226.652630   \n",
       "min       0.000000     0.000000     0.000000     1.000000     1.000000   \n",
       "25%       0.000000     0.000000     0.000000     1.592000     6.000000   \n",
       "50%       0.000000     0.000000     0.000000     2.287000    15.000000   \n",
       "75%       0.324000     0.058000     0.000000     3.787000    45.000000   \n",
       "max       9.575000     5.300000    13.129000  1102.500000  9989.000000   \n",
       "\n",
       "                 56  \n",
       "count   3065.000000  \n",
       "mean     289.059054  \n",
       "std      642.779087  \n",
       "min        1.000000  \n",
       "25%       36.000000  \n",
       "50%       94.000000  \n",
       "75%      273.000000  \n",
       "max    15841.000000  \n",
       "\n",
       "[8 rows x 57 columns]"
      ]
     },
     "execution_count": 3,
     "metadata": {},
     "output_type": "execute_result"
    }
   ],
   "source": [
    "df_Xtrain.describe()"
   ]
  },
  {
   "cell_type": "code",
   "execution_count": 4,
   "metadata": {},
   "outputs": [
    {
     "name": "stdout",
     "output_type": "stream",
     "text": [
      "<class 'pandas.core.frame.DataFrame'>\n",
      "RangeIndex: 3065 entries, 0 to 3064\n",
      "Data columns (total 1 columns):\n",
      "spam    3065 non-null int64\n",
      "dtypes: int64(1)\n",
      "memory usage: 24.0 KB\n"
     ]
    }
   ],
   "source": [
    "df_ytrain.info()"
   ]
  },
  {
   "cell_type": "markdown",
   "metadata": {},
   "source": [
    "After a brief exploration of the data, I decide to use the mean of each column to be treshold for binarization."
   ]
  },
  {
   "cell_type": "markdown",
   "metadata": {},
   "source": [
    "___"
   ]
  },
  {
   "cell_type": "markdown",
   "metadata": {},
   "source": [
    "## 2. Binarization"
   ]
  },
  {
   "cell_type": "code",
   "execution_count": 5,
   "metadata": {
    "collapsed": true
   },
   "outputs": [],
   "source": [
    "def Binarize(column):\n",
    "    \"\"\"For the input column, set values larger than the column mean to be 1, \n",
    "    rest set to be 0.\"\"\"\n",
    "    column = column > column.mean()\n",
    "    return column"
   ]
  },
  {
   "cell_type": "code",
   "execution_count": 6,
   "metadata": {
    "collapsed": true
   },
   "outputs": [],
   "source": [
    "# Apply function to each column of the Xtrain DataFrame.\n",
    "df_Xtrain_Binary = df_Xtrain_Binary.apply(Binarize)"
   ]
  },
  {
   "cell_type": "code",
   "execution_count": null,
   "metadata": {
    "collapsed": true
   },
   "outputs": [],
   "source": [
    "# Apply function to each column of the Xtrain DataFrame.\n",
    "df_Xtest_Binary = df_Xtest_Binary.apply(Binarize)"
   ]
  },
  {
   "cell_type": "markdown",
   "metadata": {},
   "source": [
    "___"
   ]
  },
  {
   "cell_type": "markdown",
   "metadata": {},
   "source": [
    "## 3. Comput Error Rate when $\\alpha$ = 1"
   ]
  },
  {
   "cell_type": "markdown",
   "metadata": {},
   "source": [
    "* __Class label__"
   ]
  },
  {
   "cell_type": "markdown",
   "metadata": {},
   "source": [
    "The class label prior $\\pi_c$ is estimated using ML (maximum likelihood).\n",
    "\n",
    "There're only two class, spam (c=1) and non-spam (c=0).\n",
    "\n",
    "$$\\pi_{c=1} = \\frac{number\\;of\\;spam}{number\\;of\\;training\\;samples}$$ \n",
    "\n",
    "$$\\pi_{c=0} = \\frac{number\\;of\\;non-spam}{number\\;of\\;training\\;samples}$$\n"
   ]
  },
  {
   "cell_type": "code",
   "execution_count": 8,
   "metadata": {},
   "outputs": [
    {
     "name": "stdout",
     "output_type": "stream",
     "text": [
      "The number of spam in the ytrain is 1234 .\n",
      "The number of training samples is 3065 .\n"
     ]
    }
   ],
   "source": [
    "print('The number of spam in the ytrain is',df_ytrain.sum().values[0],'.')\n",
    "print('The number of training samples is',df_ytrain.shape[0],'.')"
   ]
  },
  {
   "cell_type": "markdown",
   "metadata": {},
   "source": [
    "$\\pi_{c=1} = \\frac{1234}{3065}$ = 0.4026\n",
    "\n",
    "$\\pi_{c=0} = \\frac{1831}{3065}$ = 0.5974"
   ]
  },
  {
   "cell_type": "code",
   "execution_count": 9,
   "metadata": {
    "collapsed": true
   },
   "outputs": [],
   "source": [
    "# Set the class label prior\n",
    "pi_1 = 0.4026\n",
    "pi_0 = 0.5974"
   ]
  },
  {
   "cell_type": "markdown",
   "metadata": {},
   "source": [
    "* __ Feature __"
   ]
  },
  {
   "cell_type": "markdown",
   "metadata": {},
   "source": [
    "Assume a prior Beta($\\alpha$,$\\alpha$) on the feature distribution. $\\alpha$={0,0.5,1,1.5,2,...,100}.\n",
    "\n",
    "Then $P({x_j}\\mid {y=c,T})$ is posterior predictive distribution for Beta-binomial,\n",
    "\n",
    "$$P({x_j =1}\\mid {y=c,T}) = {\\overline\\theta_{jc}} = \\frac{N_{jc}+\\alpha}{N_c + 2\\alpha}$$\n",
    "\n",
    "$N_{jc}$: number of examples in class c where ${\\;feature}_j$ =1.\n",
    "\n",
    "$N_{c}$: number of training examples of class c."
   ]
  },
  {
   "cell_type": "markdown",
   "metadata": {},
   "source": [
    "### 3.1 Calculate $P({x_j}\\mid {y=c,T})$ of each feature\n",
    "\n",
    "$$P({x_j =1}\\mid {y=c,T}) = {\\overline\\theta_{jc}} = \\frac{N_{jc}+\\alpha}{N_c + 2\\alpha}$$"
   ]
  },
  {
   "cell_type": "code",
   "execution_count": 10,
   "metadata": {
    "collapsed": true
   },
   "outputs": [],
   "source": [
    "def getBetaBinomial(column,ytrain,alpha,c):\n",
    "    \n",
    "    \"\"\"For each feature(column), calculate the probability \n",
    "    P(feature = 1 | class = 1 or 0 , training data) \"\"\"\n",
    "        \n",
    "    # Index of sample labled as spam\n",
    "    c1_index = ytrain.iloc[:,0] == 1\n",
    "    # Index of sample labeld as non-spam\n",
    "    c0_index = ytrain.iloc[:,0] == 0\n",
    "    \n",
    "    if c == 1:\n",
    "        # Number of training samples labeled as spam.\n",
    "        Nc = ytrain.sum().values[0]\n",
    "        # Number of training samples labeld as spam and feature = 1.\n",
    "        Njc = column[c1_index].sum()\n",
    "    \n",
    "    elif c == 0:\n",
    "        # Number of training samples labeled as non-spam.\n",
    "        Nc = ytrain.shape[0] - ytrain.sum().values[0]\n",
    "        # Number of training samples labeld as non-spam and feature = 1.\n",
    "        Njc = column[c0_index].sum()\n",
    "        \n",
    "    # Return the P(feature = 1 | class = 1 , training data)\n",
    "    # To prevent numerical underflow, return log(P(feature = 1 | class = 1 , training data))\n",
    "    return np.log10((Njc + alpha)/(Nc+2*alpha))"
   ]
  },
  {
   "cell_type": "code",
   "execution_count": 11,
   "metadata": {
    "collapsed": true
   },
   "outputs": [],
   "source": [
    "# Let alpha = 1\n",
    "alpha = 1"
   ]
  },
  {
   "cell_type": "markdown",
   "metadata": {},
   "source": [
    "Creating a DataFrame __df_theta_1__ to store the $\\;\\overline\\theta_{j,c=1}$."
   ]
  },
  {
   "cell_type": "code",
   "execution_count": 12,
   "metadata": {
    "collapsed": true
   },
   "outputs": [],
   "source": [
    "theta_1 = df_Xtrain_Binary.apply(getBetaBinomial,args=(df_ytrain,alpha,1))\n",
    "df_theta_1 = pd.DataFrame(theta_1,columns=['theta_1'])\n",
    "df_theta_1 = df_theta_1.transpose()"
   ]
  },
  {
   "cell_type": "markdown",
   "metadata": {},
   "source": [
    "Creating a DataFrame __df_theta_0__ to store the $\\;\\overline\\theta_{j,c=0}$."
   ]
  },
  {
   "cell_type": "code",
   "execution_count": 13,
   "metadata": {
    "collapsed": true
   },
   "outputs": [],
   "source": [
    "theta_0 = df_Xtrain_Binary.apply(getBetaBinomial,args=(df_ytrain,alpha,0))\n",
    "df_theta_0 = pd.DataFrame(theta_0,columns=['theta_0'])\n",
    "df_theta_0 = df_theta_0.transpose()"
   ]
  },
  {
   "cell_type": "markdown",
   "metadata": {},
   "source": [
    "____"
   ]
  },
  {
   "cell_type": "markdown",
   "metadata": {},
   "source": [
    "### 3.2 Calculate $P({y=c}\\mid {x,T})$  and Make predictions"
   ]
  },
  {
   "cell_type": "markdown",
   "metadata": {},
   "source": [
    "Known:\n",
    "\n",
    "$\\pi_{c=1}$ :                `pi_1` \n",
    "\n",
    "$\\pi_{c=0}$ :                `pi_0`\n",
    "\n",
    "$\\overline\\theta_{j,c=1}$: `df_theta_1`\n",
    "\n",
    "$\\overline\\theta_{j,c=0}$: `df_theta_0`\n",
    "\n",
    "__T__:     `df_Xtrain_Binary` , `df_ytrain`, `df_Xtest_Binary`, `df_ytest`\n",
    "\n",
    "Since there's only two class \"spam\" and \"not spam\"\n",
    "\n",
    "$$P({y=1}\\mid {x,T}) \\; \\propto \\; \\log(\\overline{\\pi}_{c=1}) + \\sum_{j=1}^D\\log(\\overline{\\theta}_{j,c=1}^{\\parallel (x_j=1)}\\times\\overline{\\theta}_{j,c=0}^{\\parallel (x_j=0)})$$ \n",
    "\n",
    "$$P({y=0}\\mid {x,T}) \\; \\propto \\; \\log(\\overline{\\pi}_{c=0}) + \\sum_{j=0}^D\\log(\\overline{\\theta}_{j,c=0}^{\\parallel (x_j=1)}\\times\\overline{\\theta}_{j,c=1}^{\\parallel (x_j=0)})$$ \n",
    "\n",
    "$\\parallel$ : Indicator variable\n",
    "\n",
    "T : training samples\n",
    "\n",
    "D : number of feature\n",
    "\n",
    "j : feature index\n",
    "\n",
    "In practice, $\\log (P({y=c}\\mid {x,T}))$ is used in order to prevent numerical underflow"
   ]
  },
  {
   "cell_type": "code",
   "execution_count": 14,
   "metadata": {
    "collapsed": true
   },
   "outputs": [],
   "source": [
    "# helper function\n",
    "def mul(row,theta):\n",
    "    \"\"\"Row multiplication\"\"\"\n",
    "    result = (row*theta).sum()\n",
    "    \n",
    "    return result"
   ]
  },
  {
   "cell_type": "markdown",
   "metadata": {},
   "source": [
    " Calculate $P({y=c}\\mid {x,T})$ for the two classes 'spam' and 'non-spam'."
   ]
  },
  {
   "cell_type": "code",
   "execution_count": 15,
   "metadata": {
    "collapsed": true
   },
   "outputs": [],
   "source": [
    "def getClassProb(X,theta_0,theta_1,pi_0,pi_1,c):\n",
    "    \"\"\"Calculate the probability the sample belongs \n",
    "       to class c (1: spam , 0:non-spam)\"\"\"\n",
    "    ones = X == 1\n",
    "    zeros = X == 0\n",
    "    \n",
    "    # for class=1: spam\n",
    "    if c =='spam':\n",
    "        Prob = np.log10(pi_1) + ones.apply(mul,args=(theta_1.iloc[0,:],),axis=1)\\\n",
    "        + zeros.apply(mul,args=(theta_0.iloc[0,:],),axis=1)   \n",
    "    # for calss=0: non-spam\n",
    "    elif c =='non-spam':\n",
    "        Prob = np.log10(pi_0) + ones.apply(mul,args=(theta_0.iloc[0,:],),axis=1)\\\n",
    "        + zeros.apply(mul,args=(theta_1.iloc[0,:],),axis=1)\n",
    "\n",
    "    return Prob"
   ]
  },
  {
   "cell_type": "code",
   "execution_count": 16,
   "metadata": {
    "collapsed": true
   },
   "outputs": [],
   "source": [
    "def pred(X,theta_0,theta_1,pi_0,pi_1):\n",
    "    \"\"\"Input the sample datas, theta of spam and non-spam, \n",
    "    and pi of spam and non-spam, then make prediction on whether\n",
    "    the sample is spam\"\"\"\n",
    "    \n",
    "    # Use function getClassProb to calcualte the probability \n",
    "    # of each class. \n",
    "    probSpam = getClassProb(X,theta_0,theta_1,pi_0,pi_1,'spam')\n",
    "    probNonSpam = getClassProb(X,theta_0,theta_1,pi_0,pi_1,'non-spam')\n",
    "    \n",
    "    # Decide whether the email is spam by comparing \n",
    "    # the probability of spam and non-spam\n",
    "    prediction = pd.DataFrame(probSpam-probNonSpam,columns=['spam'])\n",
    "    prediction_Binary = prediction > 0\n",
    "    return prediction_Binary"
   ]
  },
  {
   "cell_type": "code",
   "execution_count": 17,
   "metadata": {
    "collapsed": true
   },
   "outputs": [],
   "source": [
    "def getErrorRate(prediction,y):\n",
    "    \"\"\"Calculate the percentage of emails classified wrongly\"\"\"\n",
    "    compare = prediction == y\n",
    "    errorRate = 1-compare.sum().values[0]/compare.shape[0]\n",
    "    return errorRate"
   ]
  },
  {
   "cell_type": "markdown",
   "metadata": {},
   "source": [
    "Make predictions for samples in Xtrain and Xtest data set."
   ]
  },
  {
   "cell_type": "code",
   "execution_count": 18,
   "metadata": {
    "collapsed": true
   },
   "outputs": [],
   "source": [
    "# Make predictions for samples in Xtrain. \n",
    "prediction_train = pred(df_Xtrain_Binary,df_theta_0,df_theta_1,pi_0,pi_1)\n",
    "# Make predictions for samples in Xtest. \n",
    "prediction_test = pred(df_Xtest_Binary,df_theta_0,df_theta_1,pi_0,pi_1)"
   ]
  },
  {
   "cell_type": "markdown",
   "metadata": {},
   "source": [
    "### 3.3 Calculate error rate"
   ]
  },
  {
   "cell_type": "markdown",
   "metadata": {},
   "source": [
    "Calculate error rate for the training samples."
   ]
  },
  {
   "cell_type": "code",
   "execution_count": 19,
   "metadata": {
    "collapsed": true
   },
   "outputs": [],
   "source": [
    "trainErrorRate = getErrorRate(prediction_train,df_ytrain)"
   ]
  },
  {
   "cell_type": "code",
   "execution_count": 20,
   "metadata": {},
   "outputs": [
    {
     "data": {
      "text/plain": [
       "0.25742251223491031"
      ]
     },
     "execution_count": 20,
     "metadata": {},
     "output_type": "execute_result"
    }
   ],
   "source": [
    "trainErrorRate"
   ]
  },
  {
   "cell_type": "markdown",
   "metadata": {},
   "source": [
    "Calculate error rate for the test samples."
   ]
  },
  {
   "cell_type": "code",
   "execution_count": 21,
   "metadata": {
    "collapsed": true
   },
   "outputs": [],
   "source": [
    "testErrorRate = getErrorRate(prediction_test,df_ytest)"
   ]
  },
  {
   "cell_type": "code",
   "execution_count": 22,
   "metadata": {},
   "outputs": [
    {
     "data": {
      "text/plain": [
       "0.263671875"
      ]
     },
     "execution_count": 22,
     "metadata": {},
     "output_type": "execute_result"
    }
   ],
   "source": [
    "testErrorRate"
   ]
  },
  {
   "cell_type": "markdown",
   "metadata": {},
   "source": [
    "### 4. Find the optimum $\\alpha$ in {0,0.5,1,1.5,2,...,100}"
   ]
  },
  {
   "cell_type": "markdown",
   "metadata": {},
   "source": [
    "Compute the error rate on the train and test data for $\\alpha$ in {0,0.5,1,1.5,2,...,100}, find the $\\alpha$ which produce least error rate on the test data. "
   ]
  },
  {
   "cell_type": "code",
   "execution_count": 23,
   "metadata": {
    "collapsed": true
   },
   "outputs": [],
   "source": [
    "# set alpha\n",
    "alpha = np.arange(0,100.5,0.5)"
   ]
  },
  {
   "cell_type": "markdown",
   "metadata": {},
   "source": [
    "Create a DataFrame to store the error rate on the train and test data. "
   ]
  },
  {
   "cell_type": "code",
   "execution_count": 24,
   "metadata": {
    "collapsed": true
   },
   "outputs": [],
   "source": [
    "df_error = pd.DataFrame(np.zeros((len(alpha),2)),columns=['Train','Test'],index=alpha)\n",
    "df_error.index.name = 'alpha'"
   ]
  },
  {
   "cell_type": "markdown",
   "metadata": {},
   "source": [
    "Note! This process takes about 3min. you could jump to step 28 as in you can get the the output directly from the csv file \"Q1_ErrorRates.csv\""
   ]
  },
  {
   "cell_type": "code",
   "execution_count": 27,
   "metadata": {
    "collapsed": true
   },
   "outputs": [
    {
     "data": {
      "text/plain": [
       "\"\\ncounter  = 0\\n\\nfor i in alpha:    \\n    # calculate the posterior predictive distribution for Beta-binomial\\n    theta_1 = df_Xtrain_Binary.apply(getBetaBinomial,args=(df_ytrain,i,1))\\n    df_theta_1 = pd.DataFrame(theta_1,columns=['theta_1'])\\n    df_theta_1 = df_theta_1.transpose()\\n    \\n    theta_0 = df_Xtrain_Binary.apply(getBetaBinomial,args=(df_ytrain,i,0))\\n    df_theta_0 = pd.DataFrame(theta_0,columns=['theta_0'])\\n    df_theta_0 = df_theta_0.transpose()\\n    \\n    # Make predictions for the 'spam' and 'non-spam'.\\n    prediction_train = pred(df_Xtrain_Binary,df_theta_0,df_theta_1,pi_0,pi_1) \\n    prediction_test = pred(df_Xtest_Binary,df_theta_0,df_theta_1,pi_0,pi_1)\\n    \\n    # Calculate error rate\\n    trainErrorRate = getErrorRate(prediction_train,df_ytrain)\\n    testErrorRate = getErrorRate(prediction_test,df_ytest)\\n    \\n    # Store the error rate\\n    row_entry = [trainErrorRate,testErrorRate]\\n    df_error.iloc[counter,:] = row_entry\\n    counter  = counter+1\\n    \\n# Save the error rates to a csv file.\\ndf_error.to_csv('201ErrorRates.csv')\\n\""
      ]
     },
     "execution_count": 27,
     "metadata": {},
     "output_type": "execute_result"
    }
   ],
   "source": [
    "counter  = 0\n",
    "\n",
    "for i in alpha:    \n",
    "    # calculate the posterior predictive distribution for Beta-binomial\n",
    "    theta_1 = df_Xtrain_Binary.apply(getBetaBinomial,args=(df_ytrain,i,1))\n",
    "    df_theta_1 = pd.DataFrame(theta_1,columns=['theta_1'])\n",
    "    df_theta_1 = df_theta_1.transpose()\n",
    "    \n",
    "    theta_0 = df_Xtrain_Binary.apply(getBetaBinomial,args=(df_ytrain,i,0))\n",
    "    df_theta_0 = pd.DataFrame(theta_0,columns=['theta_0'])\n",
    "    df_theta_0 = df_theta_0.transpose()\n",
    "    \n",
    "    # Make predictions for the 'spam' and 'non-spam'.\n",
    "    prediction_train = pred(df_Xtrain_Binary,df_theta_0,df_theta_1,pi_0,pi_1) \n",
    "    prediction_test = pred(df_Xtest_Binary,df_theta_0,df_theta_1,pi_0,pi_1)\n",
    "    \n",
    "    # Calculate error rate\n",
    "    trainErrorRate = getErrorRate(prediction_train,df_ytrain)\n",
    "    testErrorRate = getErrorRate(prediction_test,df_ytest)\n",
    "    \n",
    "    # Store the error rate\n",
    "    row_entry = [trainErrorRate,testErrorRate]\n",
    "    df_error.iloc[counter,:] = row_entry\n",
    "    counter  = counter+1\n",
    "    \n",
    "# Save the error rates to a csv file.\n",
    "df_error.to_csv('Q1_ErrorRates.csv')"
   ]
  },
  {
   "cell_type": "code",
   "execution_count": 28,
   "metadata": {
    "collapsed": true
   },
   "outputs": [],
   "source": [
    "# create the df_error dataframe by reading from the csv file\n",
    "df_error = pd.read_csv('Q1_ErrorRates.csv')"
   ]
  },
  {
   "cell_type": "code",
   "execution_count": 29,
   "metadata": {},
   "outputs": [
    {
     "data": {
      "text/html": [
       "<div>\n",
       "<style>\n",
       "    .dataframe thead tr:only-child th {\n",
       "        text-align: right;\n",
       "    }\n",
       "\n",
       "    .dataframe thead th {\n",
       "        text-align: left;\n",
       "    }\n",
       "\n",
       "    .dataframe tbody tr th {\n",
       "        vertical-align: top;\n",
       "    }\n",
       "</style>\n",
       "<table border=\"1\" class=\"dataframe\">\n",
       "  <thead>\n",
       "    <tr style=\"text-align: right;\">\n",
       "      <th></th>\n",
       "      <th>alpha</th>\n",
       "      <th>Train</th>\n",
       "      <th>Test</th>\n",
       "    </tr>\n",
       "  </thead>\n",
       "  <tbody>\n",
       "    <tr>\n",
       "      <th>count</th>\n",
       "      <td>201.00000</td>\n",
       "      <td>201.000000</td>\n",
       "      <td>201.000000</td>\n",
       "    </tr>\n",
       "    <tr>\n",
       "      <th>mean</th>\n",
       "      <td>50.00000</td>\n",
       "      <td>0.141365</td>\n",
       "      <td>0.126568</td>\n",
       "    </tr>\n",
       "    <tr>\n",
       "      <th>std</th>\n",
       "      <td>29.08393</td>\n",
       "      <td>0.032353</td>\n",
       "      <td>0.031550</td>\n",
       "    </tr>\n",
       "    <tr>\n",
       "      <th>min</th>\n",
       "      <td>0.00000</td>\n",
       "      <td>0.093638</td>\n",
       "      <td>0.089193</td>\n",
       "    </tr>\n",
       "    <tr>\n",
       "      <th>25%</th>\n",
       "      <td>25.00000</td>\n",
       "      <td>0.115498</td>\n",
       "      <td>0.106120</td>\n",
       "    </tr>\n",
       "    <tr>\n",
       "      <th>50%</th>\n",
       "      <td>50.00000</td>\n",
       "      <td>0.142904</td>\n",
       "      <td>0.121094</td>\n",
       "    </tr>\n",
       "    <tr>\n",
       "      <th>75%</th>\n",
       "      <td>75.00000</td>\n",
       "      <td>0.161175</td>\n",
       "      <td>0.140625</td>\n",
       "    </tr>\n",
       "    <tr>\n",
       "      <th>max</th>\n",
       "      <td>100.00000</td>\n",
       "      <td>0.289723</td>\n",
       "      <td>0.302083</td>\n",
       "    </tr>\n",
       "  </tbody>\n",
       "</table>\n",
       "</div>"
      ],
      "text/plain": [
       "           alpha       Train        Test\n",
       "count  201.00000  201.000000  201.000000\n",
       "mean    50.00000    0.141365    0.126568\n",
       "std     29.08393    0.032353    0.031550\n",
       "min      0.00000    0.093638    0.089193\n",
       "25%     25.00000    0.115498    0.106120\n",
       "50%     50.00000    0.142904    0.121094\n",
       "75%     75.00000    0.161175    0.140625\n",
       "max    100.00000    0.289723    0.302083"
      ]
     },
     "execution_count": 29,
     "metadata": {},
     "output_type": "execute_result"
    }
   ],
   "source": [
    "df_error.describe()"
   ]
  },
  {
   "cell_type": "code",
   "execution_count": 30,
   "metadata": {},
   "outputs": [
    {
     "data": {
      "image/png": "[encoded data removed]",
      "text/plain": [
       "<matplotlib.figure.Figure at 0x74e28fb710>"
      ]
     },
     "metadata": {},
     "output_type": "display_data"
    }
   ],
   "source": [
    "x = alpha\n",
    "y1 = df_error.Train.values\n",
    "y2 = df_error.Test.values\n",
    "\n",
    "_ = plt.plot(x, y1)\n",
    "_ = plt.plot(x, y2)\n",
    "\n",
    "plt.title('Error Rate for alpha = {0,0.5,1,1.5,2,...,100}',fontsize=15)\n",
    "plt.xlabel('alpha', fontsize=14)\n",
    "plt.ylabel('Error Rate', fontsize=14)\n",
    "\n",
    "# legend\n",
    "plt.legend(('Training data', 'Test data'),fontsize=13)\n",
    "plt.show()"
   ]
  },
  {
   "cell_type": "markdown",
   "metadata": {},
   "source": [
    "The graph above shows that there's a minimum point, so there's an optimum alpha which produces the minimum error rate. \n",
    "\n",
    "Find the index of the minimum value in column Test."
   ]
  },
  {
   "cell_type": "code",
   "execution_count": 31,
   "metadata": {},
   "outputs": [
    {
     "data": {
      "text/plain": [
       "42"
      ]
     },
     "execution_count": 31,
     "metadata": {},
     "output_type": "execute_result"
    }
   ],
   "source": [
    "df_error.Test.idxmin()"
   ]
  },
  {
   "cell_type": "markdown",
   "metadata": {},
   "source": [
    "The optimum alpha in {0,0.5,1,1.5,...,100}"
   ]
  },
  {
   "cell_type": "code",
   "execution_count": 32,
   "metadata": {},
   "outputs": [
    {
     "data": {
      "text/plain": [
       "21.0"
      ]
     },
     "execution_count": 32,
     "metadata": {},
     "output_type": "execute_result"
    }
   ],
   "source": [
    "alpha[42]"
   ]
  },
  {
   "cell_type": "markdown",
   "metadata": {},
   "source": [
    "Training and testing error rates for $\\alpha$ = 1, 10 and 100."
   ]
  },
  {
   "cell_type": "code",
   "execution_count": 33,
   "metadata": {},
   "outputs": [
    {
     "data": {
      "text/html": [
       "<div>\n",
       "<style>\n",
       "    .dataframe thead tr:only-child th {\n",
       "        text-align: right;\n",
       "    }\n",
       "\n",
       "    .dataframe thead th {\n",
       "        text-align: left;\n",
       "    }\n",
       "\n",
       "    .dataframe tbody tr th {\n",
       "        vertical-align: top;\n",
       "    }\n",
       "</style>\n",
       "<table border=\"1\" class=\"dataframe\">\n",
       "  <thead>\n",
       "    <tr style=\"text-align: right;\">\n",
       "      <th></th>\n",
       "      <th>alpha</th>\n",
       "      <th>Train</th>\n",
       "      <th>Test</th>\n",
       "    </tr>\n",
       "  </thead>\n",
       "  <tbody>\n",
       "    <tr>\n",
       "      <th>0</th>\n",
       "      <td>0.0</td>\n",
       "      <td>0.289723</td>\n",
       "      <td>0.302083</td>\n",
       "    </tr>\n",
       "    <tr>\n",
       "      <th>20</th>\n",
       "      <td>10.0</td>\n",
       "      <td>0.097227</td>\n",
       "      <td>0.103516</td>\n",
       "    </tr>\n",
       "    <tr>\n",
       "      <th>200</th>\n",
       "      <td>100.0</td>\n",
       "      <td>0.180750</td>\n",
       "      <td>0.156901</td>\n",
       "    </tr>\n",
       "  </tbody>\n",
       "</table>\n",
       "</div>"
      ],
      "text/plain": [
       "     alpha     Train      Test\n",
       "0      0.0  0.289723  0.302083\n",
       "20    10.0  0.097227  0.103516\n",
       "200  100.0  0.180750  0.156901"
      ]
     },
     "execution_count": 33,
     "metadata": {},
     "output_type": "execute_result"
    }
   ],
   "source": [
    "df_error.iloc[[0,20,200]]"
   ]
  }
 ],
 "metadata": {
  "kernelspec": {
   "display_name": "Python 3",
   "language": "python",
   "name": "python3"
  },
  "language_info": {
   "codemirror_mode": {
    "name": "ipython",
    "version": 3
   },
   "file_extension": ".py",
   "mimetype": "text/x-python",
   "name": "python",
   "nbconvert_exporter": "python",
   "pygments_lexer": "ipython3",
   "version": "3.6.2"
  }
 },
 "nbformat": 4,
 "nbformat_minor": 2
}
